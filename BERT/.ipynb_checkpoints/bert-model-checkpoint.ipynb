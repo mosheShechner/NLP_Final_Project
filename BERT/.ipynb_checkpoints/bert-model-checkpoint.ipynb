{
 "cells": [
  {
   "cell_type": "code",
   "execution_count": 1,
   "metadata": {},
   "outputs": [
    {
     "name": "stdout",
     "output_type": "stream",
     "text": [
      "Requirement already satisfied: seqeval==0.0.5 in c:\\users\\moshe\\appdata\\local\\programs\\python\\python37\\lib\\site-packages (0.0.5)\n",
      "Requirement already satisfied: numpy>=1.14.0 in c:\\users\\moshe\\appdata\\local\\programs\\python\\python37\\lib\\site-packages (from seqeval==0.0.5) (1.16.2)\n"
     ]
    },
    {
     "name": "stderr",
     "output_type": "stream",
     "text": [
      "You are using pip version 10.0.1, however version 19.0.3 is available.\n",
      "You should consider upgrading via the 'python -m pip install --upgrade pip' command.\n"
     ]
    },
    {
     "name": "stdout",
     "output_type": "stream",
     "text": [
      "Requirement already satisfied: pytorch_pretrained_bert==0.4.0 in c:\\users\\moshe\\appdata\\local\\programs\\python\\python37\\lib\\site-packages (0.4.0)\n",
      "Requirement already satisfied: requests in c:\\users\\moshe\\appdata\\local\\programs\\python\\python37\\lib\\site-packages (from pytorch_pretrained_bert==0.4.0) (2.21.0)\n",
      "Requirement already satisfied: torch>=0.4.1 in c:\\users\\moshe\\appdata\\local\\programs\\python\\python37\\lib\\site-packages (from pytorch_pretrained_bert==0.4.0) (0.4.1)\n",
      "Requirement already satisfied: numpy in c:\\users\\moshe\\appdata\\local\\programs\\python\\python37\\lib\\site-packages (from pytorch_pretrained_bert==0.4.0) (1.16.2)\n",
      "Requirement already satisfied: boto3 in c:\\users\\moshe\\appdata\\local\\programs\\python\\python37\\lib\\site-packages (from pytorch_pretrained_bert==0.4.0) (1.9.131)\n",
      "Requirement already satisfied: tqdm in c:\\users\\moshe\\appdata\\local\\programs\\python\\python37\\lib\\site-packages (from pytorch_pretrained_bert==0.4.0) (4.31.0)\n",
      "Requirement already satisfied: urllib3<1.25,>=1.21.1 in c:\\users\\moshe\\appdata\\local\\programs\\python\\python37\\lib\\site-packages (from requests->pytorch_pretrained_bert==0.4.0) (1.24.1)\n",
      "Requirement already satisfied: idna<2.9,>=2.5 in c:\\users\\moshe\\appdata\\local\\programs\\python\\python37\\lib\\site-packages (from requests->pytorch_pretrained_bert==0.4.0) (2.8)\n",
      "Requirement already satisfied: chardet<3.1.0,>=3.0.2 in c:\\users\\moshe\\appdata\\local\\programs\\python\\python37\\lib\\site-packages (from requests->pytorch_pretrained_bert==0.4.0) (3.0.4)\n",
      "Requirement already satisfied: certifi>=2017.4.17 in c:\\users\\moshe\\appdata\\local\\programs\\python\\python37\\lib\\site-packages (from requests->pytorch_pretrained_bert==0.4.0) (2019.3.9)\n",
      "Requirement already satisfied: jmespath<1.0.0,>=0.7.1 in c:\\users\\moshe\\appdata\\local\\programs\\python\\python37\\lib\\site-packages (from boto3->pytorch_pretrained_bert==0.4.0) (0.9.4)\n",
      "Requirement already satisfied: botocore<1.13.0,>=1.12.131 in c:\\users\\moshe\\appdata\\local\\programs\\python\\python37\\lib\\site-packages (from boto3->pytorch_pretrained_bert==0.4.0) (1.12.131)\n",
      "Requirement already satisfied: s3transfer<0.3.0,>=0.2.0 in c:\\users\\moshe\\appdata\\local\\programs\\python\\python37\\lib\\site-packages (from boto3->pytorch_pretrained_bert==0.4.0) (0.2.0)\n",
      "Requirement already satisfied: python-dateutil<3.0.0,>=2.1; python_version >= \"2.7\" in c:\\users\\moshe\\appdata\\roaming\\python\\python37\\site-packages (from botocore<1.13.0,>=1.12.131->boto3->pytorch_pretrained_bert==0.4.0) (2.7.5)\n",
      "Requirement already satisfied: docutils>=0.10 in c:\\users\\moshe\\appdata\\local\\programs\\python\\python37\\lib\\site-packages (from botocore<1.13.0,>=1.12.131->boto3->pytorch_pretrained_bert==0.4.0) (0.14)\n",
      "Requirement already satisfied: six>=1.5 in c:\\users\\moshe\\appdata\\local\\programs\\python\\python37\\lib\\site-packages (from python-dateutil<3.0.0,>=2.1; python_version >= \"2.7\"->botocore<1.13.0,>=1.12.131->boto3->pytorch_pretrained_bert==0.4.0) (1.12.0)\n"
     ]
    },
    {
     "name": "stderr",
     "output_type": "stream",
     "text": [
      "You are using pip version 10.0.1, however version 19.0.3 is available.\n",
      "You should consider upgrading via the 'python -m pip install --upgrade pip' command.\n",
      "Using TensorFlow backend.\n"
     ]
    },
    {
     "name": "stdout",
     "output_type": "stream",
     "text": [
      "Better speed can be achieved with apex installed from https://www.github.com/nvidia/apex.\n"
     ]
    }
   ],
   "source": [
    "!pip install seqeval==0.0.5\n",
    "!pip install pytorch_pretrained_bert==0.4.0\n",
    "\n",
    "import os\n",
    "\n",
    "# import pandas as pd\n",
    "import numpy as np\n",
    "from tqdm import tqdm, trange\n",
    "\n",
    "import torch\n",
    "from torch.optim import Adam\n",
    "from torch.utils.data import TensorDataset, DataLoader, RandomSampler, SequentialSampler\n",
    "from keras.preprocessing.sequence import pad_sequences\n",
    "from sklearn.model_selection import train_test_split\n",
    "from sklearn.metrics import classification_report\n",
    "from pytorch_pretrained_bert import BertTokenizer, BertConfig\n",
    "from pytorch_pretrained_bert import BertForTokenClassification, BertAdam"
   ]
  },
  {
   "cell_type": "code",
   "execution_count": 2,
   "metadata": {},
   "outputs": [],
   "source": [
    "import os \n",
    "import sys\n",
    "sys.path.append('..\\GenerationPipe')\n",
    "import NLP_HEBPUNCT_GP_generator as gen\n",
    "import NLP_HEBPUNCT_GP_pre_processing as preproc\n",
    "import subprocess\n",
    "from subprocess import check_output"
   ]
  },
  {
   "cell_type": "code",
   "execution_count": 3,
   "metadata": {},
   "outputs": [
    {
     "name": "stdout",
     "output_type": "stream",
     "text": [
      "DEBUG adding to data set URL: https://he.wikipedia.org/wiki/%D7%A7%D7%A4%D7%99%D7%98%D7%9C%D7%99%D7%96%D7%9D\n",
      "DEBUG adding to data set URL: https://he.wikipedia.org/wiki/%D7%A7%D7%A8%D7%9C_%D7%9E%D7%A8%D7%A7%D7%A1\n",
      "DEBUG adding to data set URL: https://he.wikipedia.org/wiki/%D7%90%D7%99%D7%9C%D7%9F_%D7%A8%D7%9E%D7%95%D7%9F\n",
      "DEBUG adding to data set URL: https://he.wikipedia.org/wiki/%D7%90%D7%9C%D7%91%D7%A8%D7%98_%D7%90%D7%99%D7%99%D7%A0%D7%A9%D7%98%D7%99%D7%99%D7%9F\n",
      "DEBUG adding to data set URL: https://he.wikipedia.org/wiki/%D7%A7%D7%A8%D7%99%D7%A4%D7%98%D7%95%D7%92%D7%A8%D7%A4%D7%99%D7%94\n",
      "DEBUG adding to data set URL: https://he.wikipedia.org/wiki/%D7%9E%D7%92%D7%93%D7%9C%D7%99_%D7%94%D7%90%D7%A0%D7%95%D7%99\n",
      "DEBUG adding to data set URL: https://he.wikipedia.org/wiki/%D7%90%D7%93%D7%95%D7%95%D7%99%D7%9F_%D7%94%D7%90%D7%91%D7%9C\n",
      "DEBUG adding to data set URL: https://he.wikipedia.org/wiki/%D7%94%D7%A9%D7%93%D7%94_%D7%94%D7%9E%D7%92%D7%A0%D7%98%D7%99_%D7%A9%D7%9C_%D7%9B%D7%93%D7%95%D7%A8_%D7%94%D7%90%D7%A8%D7%A5\n",
      "DEBUG adding to data set URL: https://he.wikipedia.org/wiki/%D7%97%D7%95%D7%A7%D7%99_%D7%A7%D7%A4%D7%9C%D7%A8\n",
      "DEBUG adding to data set URL: https://he.wikipedia.org/wiki/%D7%A4%D7%95%D7%98%D7%95%D7%9F\n",
      "DEBUG adding to data set URL: https://he.wikipedia.org/wiki/%D7%9E%D7%A8%D7%97%D7%91-%D7%96%D7%9E%D7%9F\n",
      "DEBUG adding to data set URL: https://he.wikipedia.org/wiki/%D7%97%D7%95%D7%A8_%D7%A9%D7%97%D7%95%D7%A8\n",
      "DEBUG adding to data set URL: https://he.wikipedia.org/wiki/%D7%9E%D7%A9%D7%A4%D7%98_%D7%A9%D7%9C%D7%9E%D7%94\n",
      "DEBUG adding to data set URL: https://he.wikipedia.org/wiki/%D7%92%D7%A0%D7%99%D7%91%D7%AA_%D7%94%D7%91%D7%A8%D7%9B%D7%95%D7%AA\n",
      "DEBUG adding to data set URL: https://he.wikipedia.org/wiki/%D7%99%D7%94%D7%93%D7%95%D7%AA_%D7%A7%D7%95%D7%A0%D7%A1%D7%A8%D7%91%D7%98%D7%99%D7%91%D7%99%D7%AA\n",
      "DEBUG adding to data set URL: https://he.wikipedia.org/wiki/%D7%99%D7%94%D7%93%D7%95%D7%AA_%D7%A7%D7%A8%D7%90%D7%99%D7%AA\n",
      "DEBUG adding to data set URL: https://he.wikipedia.org/wiki/%D7%AA%D7%A0%D7%95%D7%A2%D7%AA_%D7%94%D7%97%D7%A1%D7%99%D7%93%D7%95%D7%AA\n",
      "DEBUG adding to data set URL: https://he.wikipedia.org/wiki/%D7%99%D7%A8%D7%95%D7%A9%D7%9C%D7%99%D7%9D_%D7%91%D7%AA%D7%A7%D7%95%D7%A4%D7%AA_%D7%91%D7%99%D7%AA_%D7%A9%D7%A0%D7%99\n",
      "DEBUG adding to data set URL: https://he.wikipedia.org/wiki/%D7%90%D7%A8%D7%99%D7%AA%D7%9E%D7%98%D7%99%D7%A7%D7%94\n",
      "DEBUG adding to data set URL: https://he.wikipedia.org/wiki/%D7%97%D7%96%D7%A7%D7%94_(%D7%9E%D7%AA%D7%9E%D7%98%D7%99%D7%A7%D7%94)\n",
      "DEBUG adding to data set URL: https://he.wikipedia.org/wiki/%D7%97%D7%99%D7%93%D7%95%D7%AA_%D7%97%D7%99%D7%AA%D7%95%D7%9A_%D7%95%D7%94%D7%A8%D7%9B%D7%91%D7%94\n",
      "DEBUG adding to data set URL: https://he.wikipedia.org/wiki/%D7%A4%D7%95%D7%A8%D7%98%D7%9C:%D7%A2%D7%A8%D7%9B%D7%99%D7%9D_%D7%9E%D7%95%D7%9E%D7%9C%D7%A6%D7%99%D7%9D/%D7%A2%D7%A8%D7%9B%D7%99%D7%9D/%D7%A7%D7%98%D7%9C%D7%9F\n",
      "DEBUG adding to data set URL: https://he.wikipedia.org/wiki/%D7%A4%D7%95%D7%A8%D7%98%D7%9C:%D7%A2%D7%A8%D7%9B%D7%99%D7%9D_%D7%9E%D7%95%D7%9E%D7%9C%D7%A6%D7%99%D7%9D/%D7%A2%D7%A8%D7%9B%D7%99%D7%9D/%D7%A9%D7%9E%D7%95%D7%A8%D7%95%D7%AA_%D7%94%D7%A4%D7%A0%D7%93%D7%94_%D7%94%D7%A2%D7%A0%D7%A7_%D7%91%D7%A1%D7%A6%27%D7%95%D7%90%D7%9F\n",
      "DEBUG adding to data set URL: https://he.wikipedia.org/wiki/%D7%A4%D7%95%D7%A8%D7%98%D7%9C:%D7%A2%D7%A8%D7%9B%D7%99%D7%9D_%D7%9E%D7%95%D7%9E%D7%9C%D7%A6%D7%99%D7%9D/%D7%A2%D7%A8%D7%9B%D7%99%D7%9D/%D7%A9%D7%97%D7%A4%D7%99%D7%AA_%D7%94%D7%A7%D7%95%D7%98%D7%91\n",
      "DEBUG adding to data set URL: https://he.wikipedia.org/wiki/%D7%A4%D7%95%D7%A8%D7%98%D7%9C:%D7%A2%D7%A8%D7%9B%D7%99%D7%9D_%D7%9E%D7%95%D7%9E%D7%9C%D7%A6%D7%99%D7%9D/%D7%A2%D7%A8%D7%9B%D7%99%D7%9D/%D7%A9%D7%99%D7%9E%D7%A4%D7%A0%D7%96%D7%94_%D7%9E%D7%A6%D7%95%D7%99\n",
      "DEBUG adding to data set URL: https://he.wikipedia.org/wiki/%D7%A4%D7%95%D7%A8%D7%98%D7%9C:%D7%A2%D7%A8%D7%9B%D7%99%D7%9D_%D7%9E%D7%95%D7%9E%D7%9C%D7%A6%D7%99%D7%9D/%D7%A2%D7%A8%D7%9B%D7%99%D7%9D/%D7%A9%D7%99%D7%A8%D7%AA_%D7%94%D7%9C%D7%95%D7%95%D7%99%D7%99%D7%AA%D7%9F\n",
      "DEBUG adding to data set URL: https://he.wikipedia.org/wiki/%D7%A4%D7%95%D7%A8%D7%98%D7%9C:%D7%A2%D7%A8%D7%9B%D7%99%D7%9D_%D7%9E%D7%95%D7%9E%D7%9C%D7%A6%D7%99%D7%9D/%D7%A2%D7%A8%D7%9B%D7%99%D7%9D/%D7%AA%D7%A0%D7%99%D7%A0%D7%90%D7%99%D7%9D\n",
      "DEBUG adding to data set URL: https://he.wikipedia.org/wiki/%D7%A4%D7%95%D7%A8%D7%98%D7%9C:%D7%A2%D7%A8%D7%9B%D7%99%D7%9D_%D7%9E%D7%95%D7%9E%D7%9C%D7%A6%D7%99%D7%9D/%D7%A2%D7%A8%D7%9B%D7%99%D7%9D/%D7%94%D7%90%D7%93%D7%9D_%D7%94%D7%A0%D7%99%D7%90%D7%A0%D7%93%D7%A8%D7%98%D7%9C%D7%99\n",
      "DEBUG adding to data set URL: https://he.wikipedia.org/wiki/%D7%A4%D7%95%D7%A8%D7%98%D7%9C:%D7%A2%D7%A8%D7%9B%D7%99%D7%9D_%D7%9E%D7%95%D7%9E%D7%9C%D7%A6%D7%99%D7%9D/%D7%A2%D7%A8%D7%9B%D7%99%D7%9D/%D7%94%D7%95%D7%9E%D7%95_%D7%90%D7%A8%D7%A7%D7%98%D7%95%D7%A1\n",
      "DEBUG adding to data set URL: https://he.wikipedia.org/wiki/%D7%A4%D7%95%D7%A8%D7%98%D7%9C:%D7%A2%D7%A8%D7%9B%D7%99%D7%9D_%D7%9E%D7%95%D7%9E%D7%9C%D7%A6%D7%99%D7%9D/%D7%A2%D7%A8%D7%9B%D7%99%D7%9D/%D7%94%D7%95%D7%9E%D7%95_%D7%A4%D7%9C%D7%95%D7%A8%D7%A1%D7%99%D7%99%D7%A0%D7%A1%D7%99%D7%A1\n",
      "DEBUG adding to data set URL: https://he.wikipedia.org/wiki/%D7%A4%D7%95%D7%A8%D7%98%D7%9C:%D7%A2%D7%A8%D7%9B%D7%99%D7%9D_%D7%9E%D7%95%D7%9E%D7%9C%D7%A6%D7%99%D7%9D/%D7%A2%D7%A8%D7%9B%D7%99%D7%9D/%D7%94%D7%99%D7%A4%D7%95%D7%A4%D7%95%D7%98%D7%9D\n",
      "DEBUG adding to data set URL: https://he.wikipedia.org/wiki/%D7%A4%D7%95%D7%A8%D7%98%D7%9C:%D7%A2%D7%A8%D7%9B%D7%99%D7%9D_%D7%9E%D7%95%D7%9E%D7%9C%D7%A6%D7%99%D7%9D/%D7%A2%D7%A8%D7%9B%D7%99%D7%9D/%D7%91%D7%99%D7%9C%D7%91%D7%99_%D7%A2%D7%A0%D7%A7\n",
      "DEBUG adding to data set URL: https://he.wikipedia.org/wiki/%D7%A4%D7%95%D7%A8%D7%98%D7%9C:%D7%A2%D7%A8%D7%9B%D7%99%D7%9D_%D7%9E%D7%95%D7%9E%D7%9C%D7%A6%D7%99%D7%9D/%D7%A2%D7%A8%D7%9B%D7%99%D7%9D/%D7%A0%D7%93%D7%99%D7%93%D7%AA_%D7%A2%D7%95%D7%A4%D7%95%D7%AA\n",
      "DEBUG adding to data set URL: https://he.wikipedia.org/wiki/%D7%A8%D7%99%D7%A6%27%D7%A8%D7%93_%D7%93%D7%95%D7%A7%D7%99%D7%A0%D7%A1\n",
      "DEBUG adding to data set URL: https://he.wikipedia.org/wiki/%D7%A0%D7%99%D7%A1%D7%95%D7%99%D7%99%D7%9D_%D7%91%D7%9C%D7%A9%D7%A0%D7%99%D7%99%D7%9D_%D7%91%D7%A7%D7%95%D7%A4%D7%99_%D7%90%D7%93%D7%9D\n",
      "DEBUG adding to data set URL: https://he.wikipedia.org/wiki/%D7%92%27%D7%99%D7%A0%D7%92%27%D7%99\n",
      "DEBUG adding to data set URL: https://he.wikipedia.org/wiki/%D7%A1%D7%9E%D7%99%D7%9D_%D7%91%D7%A1%D7%A4%D7%95%D7%A8%D7%98\n",
      "DEBUG adding to data set URL: https://he.wikipedia.org/wiki/%D7%90%D7%A8%D7%A1\n",
      "DEBUG adding to data set URL: https://he.wikipedia.org/wiki/%D7%A7%D7%9C%D7%A8%D7%94_%D7%91%D7%A8%D7%98%D7%95%D7%9F\n",
      "DEBUG adding to data set URL: https://he.wikipedia.org/wiki/%D7%91%D7%AA%D7%99%D7%A8%D7%AA_%D7%90%D7%91%D7%99_%D7%94%D7%A2%D7%95%D7%A8%D7%A7%D7%99%D7%9D\n",
      "DEBUG adding to data set URL: https://he.wikipedia.org/wiki/%D7%A9%D7%93%D7%A8%D7%95%D7%AA_%D7%A8%D7%95%D7%98%D7%A9%D7%99%D7%9C%D7%93\n",
      "DEBUG adding to data set URL: https://he.wikipedia.org/wiki/%D7%AA%D7%9C_%D7%90%D7%91%D7%99%D7%91_%D7%91%D7%9E%D7%9C%D7%97%D7%9E%D7%AA_%D7%94%D7%A2%D7%A6%D7%9E%D7%90%D7%95%D7%AA\n",
      "DEBUG adding to data set URL: https://he.wikipedia.org/wiki/%D7%AA%D7%9C_%D7%90%D7%91%D7%99%D7%91-%D7%99%D7%A4%D7%95\n",
      "DEBUG adding to data set URL: https://he.wikipedia.org/wiki/%D7%90%D7%A8%D7%92%D7%95%D7%9F_%D7%A6%D7%91%D7%90%D7%99_%D7%9C%D7%90%D7%95%D7%9E%D7%99\n",
      "DEBUG adding to data set URL: https://he.wikipedia.org/wiki/%D7%94%D7%94%D7%92%D7%A0%D7%94\n",
      "DEBUG adding to data set URL: https://he.wikipedia.org/wiki/%D7%94%D7%94%D7%A2%D7%A4%D7%9C%D7%94\n",
      "DEBUG adding to data set URL: https://he.wikipedia.org/wiki/%D7%94%D7%99%D7%99%D7%A9%D7%95%D7%91_%D7%94%D7%99%D7%A9%D7%9F\n",
      "DEBUG adding to data set URL: https://he.wikipedia.org/wiki/%D7%94%D7%A9%D7%95%D7%9E%D7%A8\n",
      "DEBUG adding to data set URL: https://he.wikipedia.org/wiki/%D7%96%D7%90%D7%91_%D7%96%27%D7%91%D7%95%D7%98%D7%99%D7%A0%D7%A1%D7%A7%D7%99\n",
      "DEBUG adding to data set URL: https://he.wikipedia.org/wiki/%D7%97%D7%99%D7%99%D7%9D_%D7%90%D7%A8%D7%9C%D7%95%D7%96%D7%95%D7%A8%D7%95%D7%91_(%D7%90%D7%95%D7%A0%D7%99%D7%99%D7%AA_%D7%9E%D7%A2%D7%A4%D7%99%D7%9C%D7%99%D7%9D)\n",
      "DEBUG adding to data set URL: https://he.wikipedia.org/wiki/%D7%9E%D7%9C%D7%95%D7%9F_%D7%94%D7%9E%D7%9C%D7%9A_%D7%93%D7%95%D7%93\n"
     ]
    },
    {
     "name": "stdout",
     "output_type": "stream",
     "text": [
      "DEBUG adding to data set URL: https://he.wikipedia.org/wiki/%D7%9E%D7%97%D7%9C%D7%A7%D7%AA_%D7%94%D7%9C%22%D7%94\n",
      "DEBUG adding to data set URL: https://he.wikipedia.org/wiki/%D7%AA%D7%97%D7%99%D7%99%D7%AA_%D7%94%D7%9C%D7%A9%D7%95%D7%9F_%D7%94%D7%A2%D7%91%D7%A8%D7%99%D7%AA\n",
      "DEBUG adding to data set URL: https://he.wikipedia.org/wiki/%D7%94%D7%A7%D7%A8%D7%91_%D7%A2%D7%9C_%D7%99%D7%A8%D7%95%D7%A9%D7%9C%D7%99%D7%9D_%D7%91%D7%9E%D7%9C%D7%97%D7%9E%D7%AA_%D7%A9%D7%A9%D7%AA_%D7%94%D7%99%D7%9E%D7%99%D7%9D\n",
      "DEBUG adding to data set URL: https://he.wikipedia.org/wiki/%D7%97%D7%95%D7%9E%D7%95%D7%AA_%D7%99%D7%A8%D7%95%D7%A9%D7%9C%D7%99%D7%9D\n",
      "DEBUG adding to data set URL: https://he.wikipedia.org/wiki/%D7%9E%D7%A0%D7%94%D7%A8%D7%95%D7%AA_%D7%94%D7%9B%D7%95%D7%AA%D7%9C\n",
      "DEBUG adding to data set URL: https://he.wikipedia.org/wiki/%D7%90%D7%A1%D7%A4%D7%A7%D7%AA_%D7%94%D7%9E%D7%99%D7%9D_%D7%9C%D7%99%D7%A8%D7%95%D7%A9%D7%9C%D7%99%D7%9D\n",
      "DEBUG adding to data set URL: https://he.wikipedia.org/wiki/%D7%9B%D7%A0%D7%A1%D7%99%D7%99%D7%AA_%D7%94%D7%A7%D7%91%D7%A8\n",
      "DEBUG adding to data set URL: https://he.wikipedia.org/wiki/%D7%99%D7%A8%D7%95%D7%A9%D7%9C%D7%99%D7%9D_%D7%91%D7%AA%D7%A7%D7%95%D7%A4%D7%94_%D7%94%D7%9E%D7%9E%D7%9C%D7%95%D7%9B%D7%99%D7%AA\n",
      "DEBUG adding to data set URL: https://he.wikipedia.org/wiki/%D7%99%D7%A8%D7%95%D7%A9%D7%9C%D7%99%D7%9D_%D7%91%D7%AA%D7%A7%D7%95%D7%A4%D7%94_%D7%94%D7%A6%D7%9C%D7%91%D7%A0%D7%99%D7%AA\n",
      "DEBUG adding to data set URL: https://he.wikipedia.org/wiki/%D7%99%D7%A8%D7%95%D7%A9%D7%9C%D7%99%D7%9D_%D7%91%D7%AA%D7%A7%D7%95%D7%A4%D7%94_%D7%94%D7%91%D7%99%D7%96%D7%A0%D7%98%D7%99%D7%AA\n",
      "DEBUG adding to data set URL: https://he.wikipedia.org/wiki/%D7%99%D7%A9%D7%A8%D7%90%D7%9C_%D7%91%D7%9E%D7%9C%D7%97%D7%9E%D7%AA_%D7%99%D7%95%D7%9D_%D7%94%D7%9B%D7%99%D7%A4%D7%95%D7%A8%D7%99%D7%9D\n",
      "DEBUG adding to data set URL: https://he.wikipedia.org/wiki/%D7%A9%D7%9E%D7%95%D7%90%D7%9C_%D7%99%D7%95%D7%A1%D7%A3_%D7%A2%D7%92%D7%A0%D7%95%D7%9F\n",
      "DEBUG adding to data set URL: https://he.wikipedia.org/wiki/%D7%A2%D7%A6%D7%99%D7%9D_%D7%A2%D7%AA%D7%99%D7%A7%D7%99%D7%9D_%D7%91%D7%90%D7%A8%D7%A5_%D7%99%D7%A9%D7%A8%D7%90%D7%9C\n",
      "DEBUG adding to data set URL: https://he.wikipedia.org/wiki/%D7%9E%D7%A6%D7%93%D7%94\n",
      "DEBUG adding to data set URL: https://he.wikipedia.org/wiki/%D7%9E%D7%A0%D7%97%D7%9D_%D7%91%D7%92%D7%99%D7%9F\n",
      "DEBUG adding to data set URL: https://he.wikipedia.org/wiki/%D7%99%D7%A6%D7%97%D7%A7_%D7%A9%D7%9E%D7%99%D7%A8\n",
      "DEBUG adding to data set URL: https://he.wikipedia.org/wiki/%D7%A9%D7%9E%D7%A2%D7%95%D7%9F_%D7%A4%D7%A8%D7%A1\n",
      "DEBUG adding to data set URL: https://he.wikipedia.org/wiki/%D7%99%D7%92%D7%90%D7%9C_%D7%90%D7%9C%D7%95%D7%9F\n",
      "DEBUG adding to data set URL: https://he.wikipedia.org/wiki/%D7%99%D7%97%D7%A1%D7%99_%D7%99%D7%A9%D7%A8%D7%90%D7%9C-%D7%A1%D7%A8%D7%99_%D7%9C%D7%A0%D7%A7%D7%94\n",
      "DEBUG adding to data set URL: https://he.wikipedia.org/wiki/%D7%94%D7%97%D7%A7%D7%99%D7%A7%D7%94_%D7%91%D7%99%D7%A9%D7%A8%D7%90%D7%9C\n",
      "DEBUG adding to data set URL: https://he.wikipedia.org/wiki/%D7%94%D7%9E%D7%A9%D7%A4%D7%98_%D7%91%D7%99%D7%A9%D7%A8%D7%90%D7%9C\n",
      "DEBUG adding to data set URL: https://he.wikipedia.org/wiki/%D7%9E%D7%A2%D7%A8%D7%9B%D7%95%D7%AA_%D7%94%D7%9E%D7%A1%D7%AA%D7%95%D7%A8_%D7%A9%D7%9C_%D7%91%D7%A8_%D7%9B%D7%95%D7%9B%D7%91%D7%90\n",
      "DEBUG adding to data set URL: https://he.wikipedia.org/wiki/%D7%A7%D7%A8%D7%91_%D7%A1%D7%98%D7%9C%D7%99%D7%A0%D7%92%D7%A8%D7%93\n",
      "DEBUG adding to data set URL: https://he.wikipedia.org/wiki/%D7%94%D7%A4%D7%9C%D7%99%D7%A9%D7%94_%D7%9C%D7%A0%D7%95%D7%A8%D7%9E%D7%A0%D7%93%D7%99\n",
      "DEBUG adding to data set URL: https://he.wikipedia.org/wiki/%D7%94%D7%9E%D7%A2%D7%A8%D7%9B%D7%94_%D7%91%D7%90%D7%95%D7%A7%D7%99%D7%99%D7%A0%D7%95%D7%A1_%D7%94%D7%90%D7%98%D7%9C%D7%A0%D7%98%D7%99_(1939%E2%80%931945)\n",
      "DEBUG adding to data set URL: https://he.wikipedia.org/wiki/%D7%90%D7%95%D7%A9%D7%95%D7%95%D7%99%D7%A5\n",
      "DEBUG adding to data set URL: https://he.wikipedia.org/wiki/%D7%90%D7%A0%D7%94_%D7%A4%D7%A8%D7%A0%D7%A7\n",
      "DEBUG adding to data set URL: https://he.wikipedia.org/wiki/%D7%94%D7%97%D7%95%D7%A7_%D7%9C%D7%94%D7%92%D7%A0%D7%AA_%D7%94%D7%90%D7%95%D7%9E%D7%94\n",
      "DEBUG adding to data set URL: https://he.wikipedia.org/wiki/%D7%90%D7%9C%D7%9B%D7%A1%D7%A0%D7%93%D7%A8_%D7%94%D7%92%D7%93%D7%95%D7%9C\n",
      "DEBUG adding to data set URL: https://he.wikipedia.org/wiki/%D7%99%D7%95%D7%95%D7%9F_%D7%94%D7%A7%D7%9C%D7%90%D7%A1%D7%99%D7%AA\n",
      "DEBUG adding to data set URL: https://he.wikipedia.org/wiki/%D7%9B%D7%99%D7%91%D7%95%D7%A9_%D7%94%D7%90%D7%99%D7%9E%D7%A4%D7%A8%D7%99%D7%94_%D7%94%D7%A4%D7%A8%D7%A1%D7%99%D7%AA_%D7%A2%D7%9C_%D7%99%D7%93%D7%99_%D7%90%D7%9C%D7%9B%D7%A1%D7%A0%D7%93%D7%A8_%D7%94%D7%92%D7%93%D7%95%D7%9C\n",
      "DEBUG adding to data set URL: https://he.wikipedia.org/wiki/%D7%A9%D7%A0%D7%90%D7%AA_%D7%99%D7%A9%D7%A8%D7%90%D7%9C_%D7%91%D7%A2%D7%95%D7%9C%D7%9D_%D7%94%D7%99%D7%95%D7%95%D7%A0%D7%99-%D7%A8%D7%95%D7%9E%D7%99\n",
      "DEBUG adding to data set URL: https://he.wikipedia.org/wiki/%D7%9B%D7%99%D7%91%D7%95%D7%A9%D7%99_%D7%90%D7%9C%D7%9B%D7%A1%D7%A0%D7%93%D7%A8_%D7%94%D7%92%D7%93%D7%95%D7%9C_%D7%91%D7%90%D7%A1%D7%99%D7%94_%D7%94%D7%AA%D7%99%D7%9B%D7%95%D7%A0%D7%94\n",
      "DEBUG adding to data set URL: https://he.wikipedia.org/wiki/%D7%99%D7%95%D7%95%D7%9F_%D7%94%D7%90%D7%A8%D7%9B%D7%90%D7%99%D7%AA\n",
      "DEBUG adding to data set URL: https://he.wikipedia.org/wiki/%D7%94%D7%90%D7%9D_%D7%92%D7%95%D7%92%D7%9C_%D7%A2%D7%95%D7%A9%D7%94_%D7%90%D7%95%D7%AA%D7%A0%D7%95_%D7%98%D7%99%D7%A4%D7%A9%D7%99%D7%9D%3F\n",
      "DEBUG adding to data set URL: https://he.wikipedia.org/wiki/%D7%9C%D7%A7%D7%95%D7%AA_%D7%9C%D7%9E%D7%99%D7%93%D7%94\n",
      "DEBUG adding to data set URL: https://he.wikipedia.org/wiki/%D7%A4%D7%A1%D7%99%D7%9B%D7%95%D7%A4%D7%AA%D7%99%D7%94\n",
      "DEBUG adding to data set URL: https://he.wikipedia.org/wiki/%D7%94%D7%A4%D7%A8%D7%A2%D7%AA_%D7%A7%D7%A9%D7%91_%D7%91%D7%9E%D7%91%D7%95%D7%92%D7%A8%D7%99%D7%9D\n",
      "DEBUG adding to data set URL: https://he.wikipedia.org/wiki/%D7%9E%D7%99%D7%A9%D7%9C_%D7%A4%D7%95%D7%A7%D7%95\n",
      "DEBUG adding to data set URL: https://he.wikipedia.org/wiki/%D7%9E%D7%A9%D7%91%D7%A8_%D7%A7%D7%A8%D7%A0%D7%95%D7%AA_%D7%94%D7%A4%D7%A0%D7%A1%D7%99%D7%94_%D7%94%D7%92%D7%A8%D7%A2%D7%95%D7%A0%D7%99%D7%95%D7%AA\n",
      "DEBUG adding to data set URL: https://he.wikipedia.org/wiki/%D7%97%D7%95%D7%A7_%D7%94%D7%94%D7%A1%D7%93%D7%A8%D7%99%D7%9D\n",
      "DEBUG adding to data set URL: https://he.wikipedia.org/wiki/%D7%94%D7%94%D7%A1%D7%AA%D7%93%D7%A8%D7%95%D7%AA_%D7%94%D7%9B%D7%9C%D7%9C%D7%99%D7%AA_%D7%A9%D7%9C_%D7%94%D7%A2%D7%95%D7%91%D7%93%D7%99%D7%9D_%D7%91%D7%90%D7%A8%D7%A5_%D7%99%D7%A9%D7%A8%D7%90%D7%9C\n",
      "DEBUG adding to data set URL: https://he.wikipedia.org/wiki/%D7%90%D7%93%D7%A8%D7%99%D7%9B%D7%9C%D7%95%D7%AA_%D7%92%D7%95%D7%AA%D7%99%D7%AA\n",
      "DEBUG adding to data set URL: https://he.wikipedia.org/wiki/%D7%9B%D7%A0%D7%A1%D7%99%D7%99%D7%AA_%D7%94%D7%91%D7%A9%D7%95%D7%A8%D7%94\n",
      "DEBUG adding to data set URL: https://he.wikipedia.org/wiki/%D7%94%D7%9E%D7%97%D7%9C%D7%95%D7%A7%D7%AA_%D7%A2%D7%9C_%D7%94%D7%98%D7%A7%D7%A1%D7%99%D7%9D_%D7%94%D7%A1%D7%99%D7%A0%D7%99%D7%99%D7%9D\n",
      "DEBUG adding to data set URL: https://he.wikipedia.org/wiki/%D7%94%D7%99%D7%A1%D7%98%D7%95%D7%A8%D7%99%D7%94_%D7%A9%D7%9C_%D7%94%D7%9E%D7%99%D7%A1%D7%99%D7%95%D7%9F_%D7%94%D7%A0%D7%95%D7%A6%D7%A8%D7%99\n",
      "DEBUG adding to data set URL: https://he.wikipedia.org/wiki/%D7%AA%D7%90%D7%95%D7%A8%D7%99%D7%99%D7%AA_%D7%A9%D7%A0%D7%99_%D7%94%D7%9E%D7%A7%D7%95%D7%A8%D7%95%D7%AA\n",
      "DEBUG adding to data set URL: https://he.wikipedia.org/wiki/%D7%A6%D7%9C%D7%99%D7%91%D7%AA_%D7%99%D7%A9%D7%95\n",
      "DEBUG adding to data set URL: https://he.wikipedia.org/wiki/%D7%9E%D7%94%D7%93%D7%99\n",
      "DEBUG adding to data set URL: https://he.wikipedia.org/wiki/%D7%A4%D7%95%D7%A8%D7%98%D7%9C:%D7%92%27%D7%90%D7%96/%D7%A2%D7%A8%D7%9B%D7%99%D7%9D_%D7%9E%D7%95%D7%9E%D7%9C%D7%A6%D7%99%D7%9D\n",
      "DEBUG adding to data set URL: https://he.wikipedia.org/wiki/%D7%A4%D7%95%D7%A8%D7%98%D7%9C:%D7%9B%D7%93%D7%95%D7%A8%D7%A1%D7%9C/%D7%A2%D7%A8%D7%9B%D7%99%D7%9D_%D7%9E%D7%95%D7%9E%D7%9C%D7%A6%D7%99%D7%9D\n",
      "DEBUG adding to data set URL: https://he.wikipedia.org/wiki/%D7%A4%D7%9C%D7%94\n",
      "DEBUG adding to data set URL: https://he.wikipedia.org/wiki/%D7%92%D7%91%D7%99%D7%A2_%D7%94%D7%A2%D7%95%D7%9C%D7%9D_%D7%91%D7%9B%D7%93%D7%95%D7%A8%D7%92%D7%9C\n"
     ]
    },
    {
     "name": "stdout",
     "output_type": "stream",
     "text": [
      "DEBUG adding to data set URL: https://he.wikipedia.org/wiki/%D7%91%D7%A8%D7%A6%D7%9C%D7%95%D7%A0%D7%94_(%D7%9B%D7%93%D7%95%D7%A8%D7%92%D7%9C)\n",
      "size of data: 4036\n",
      "-----------------------------------------------------\n",
      "['השימוש', 'הראשון', 'המוכר', 'במונח', 'קפיטליזם', 'מופיע', 'אצל', 'תאקרי', 'בשנת', '0', 'במשמעות', 'בעלות', 'על', 'הון', 'השימוש', 'המודרני', 'הרחב', 'הראשון', 'במונח', 'בא', 'בספר', 'הקפיטל', 'של', 'קרל', 'מרקס', 'ופרידריך', 'אנגלס', 'המתייחס', 'למערכת', 'הייצור', 'הקפיטליסטית', 'ול', 'קפיטליסט', 'במובן', 'של', 'בעלים', 'של', 'אמצעי', 'הייצור', 'שימושם', 'המקורי', 'של', 'מרקס', 'ואנגלס', 'במונח', 'היה', 'ככינוי', 'גנאי', 'מאקס', 'ובר', 'השתמש', 'בו', 'בחיבורו', 'הידוע', 'האתיקה', 'הפרוטסטנטית', 'ורוח', 'הקפיטליזם', 'אך', 'רק', 'לאחר', 'פרסום', 'ספרו', 'של', 'הכלכלן', 'ורנר', 'זומברט', 'קפיטליזם', 'מודרני', 'משנת', '0', 'המונח', 'הפך', 'לתיאור', 'תפיסה', 'המנוגדת', 'לסוציאליזם', 'כיום', 'אף', 'שאדם', 'סמית', 'לא', 'השתמש', 'מעולם', 'במונח', 'קפיטליזם', 'ותיאר', 'את', 'המערכת', 'הכלכלית', 'המועדפת', 'עליו', 'כ', 'מערכת', 'החירות', 'הטבעית', 'יש', 'הרואים', 'בו', 'אבי', 'הקפיטליזם']\n",
      "-----------------------------------------------------\n",
      "['none', 'none', 'none', 'none', 'none', 'none', 'none', 'none', 'none', ',', 'none', 'none', 'none', '.', 'none', 'none', 'none', 'none', 'none', 'none', 'none', 'none', 'none', 'none', 'none', 'none', ',', 'none', 'none', 'none', 'none', 'none', 'none', 'none', 'none', 'none', 'none', 'none', '.', 'none', 'none', 'none', 'none', 'none', 'none', 'none', 'none', '.', 'none', 'none', 'none', 'none', 'none', 'none', 'none', 'none', 'none', 'none', 'none', 'none', 'none', 'none', 'none', 'none', 'none', 'none', 'none', 'none', 'none', 'none', 'none', 'none', 'none', 'none', 'none', 'none', '.', ',', 'none', 'none', 'none', 'none', 'none', 'none', 'none', ',', 'none', 'none', 'none', 'none', 'none', 'none', 'none', 'none', 'none', ',', 'none', 'none', 'none', 'none', '.']\n"
     ]
    }
   ],
   "source": [
    "def generate_dataset_part_a(url_list,outname):\n",
    "    gen.generate(url_list,outname)\n",
    "    out = gen.getStringFromDataFile(outname)\n",
    "    out = out.split(\"<DATADEL>\")  \n",
    "    data = []\n",
    "    for x in out:\n",
    "        data.append(x.split(\"<XYDEL>\"))\n",
    "    dataset=[]\n",
    "    for d in data:\n",
    "        temp = []\n",
    "        temp.append(d[0].split(\" \"))\n",
    "        temp.append(d[1].split(\" \"))\n",
    "        dataset.append(temp)\n",
    "    return dataset\n",
    "\n",
    "data = generate_dataset_part_a(gen.readyUrlList,\"train_data\")\n",
    "x_train = [x[0] for x in data]\n",
    "y_train = [x[1] for x in data]\n",
    "print(\"size of data: \" + str(len(x_train)))\n",
    "print(\"-----------------------------------------------------\")\n",
    "print(x_train[0])\n",
    "print(\"-----------------------------------------------------\")\n",
    "print(y_train[0])"
   ]
  },
  {
   "cell_type": "code",
   "execution_count": 4,
   "metadata": {},
   "outputs": [
    {
     "name": "stdout",
     "output_type": "stream",
     "text": [
      "['השימוש', 'הראשון', 'ה', '##מו', '##כר', 'ב', '##מו', '##נח', 'ק', '##פי', '##טל', '##יז', '##ם', 'מופיע', 'אצל', 'ת', '##אק', '##רי', 'בשנת', '0', 'ב', '##מש', '##מעות', 'בעלות', 'על', 'ה', '##ון', 'השימוש', 'ה', '##מוד', '##רני', 'הר', '##חב', 'הראשון', 'ב', '##מו', '##נח', 'ב', '##א', 'בספר', 'ה', '##ק', '##פי', '##טל', 'של', 'ק', '##רל', 'מ', '##רק', '##ס', 'ו', '##פר', '##יד', '##ריך', 'אנג', '##לס', 'ה', '##מת', '##יי', '##חס', 'ל', '##מערכת', 'ה', '##יי', '##צור', 'ה', '##ק', '##פי', '##טל', '##יס', '##טית', 'ו', '##ל', 'ק', '##פי', '##טל', '##יס', '##ט', 'ב', '##מו', '##בן', 'של', 'בעלי', '##ם', 'של', 'א', '##מ', '##צע', '##י', 'ה', '##יי', '##צור', 'שימוש', '##ם', 'המקורי', 'של', 'מ', '##רק', '##ס', 'ו', '##א', '##נג', '##לס', 'ב', '##מו', '##נח', 'היה', 'כ', '##כי', '##נוי', 'ג', '##נאי', 'מ', '##אק', '##ס', 'וב', '##ר', 'ה', '##שתמש', 'בו', 'ב', '##חי', '##בור', '##ו', 'ה', '##ידוע', 'ה', '##את', '##יקה', 'ה', '##פר', '##וט', '##סט', '##נטית', 'ו', '##רו', '##ח', 'ה', '##ק', '##פי', '##טל', '##יז', '##ם', 'אך', 'רק', 'לאחר', 'פרס', '##ום', 'ספרו', 'של', 'הכל', '##כל', '##ן', 'ו', '##ר', '##נר', 'זו', '##מבר', '##ט', 'ק', '##פי', '##טל', '##יז', '##ם', 'מ', '##וד', '##רני', 'משנת', '0', 'ה', '##מו', '##נח', 'הפך', 'ל', '##תי', '##אור', 'ת', '##פי', '##סה', 'ה', '##מנו', '##ג', '##דת', 'ל', '##סו', '##צי', '##אלי', '##זם', 'כיום', 'אף', 'ש', '##אד', '##ם', 'ס', '##מית', 'לא', 'ה', '##שתמש', 'מ', '##עולם', 'ב', '##מו', '##נח', 'ק', '##פי', '##טל', '##יז', '##ם', 'ו', '##תי', '##אר', 'את', 'ה', '##מערכת', 'הכל', '##כלית', 'ה', '##מו', '##עד', '##פת', 'עליו', 'כ', 'מערכת', 'ה', '##חי', '##רות', 'ה', '##טבע', '##ית', 'יש', 'הר', '##ואים', 'בו', 'א', '##בי', 'ה', '##ק', '##פי', '##טל', '##יז', '##ם']\n",
      "['none', 'none', 'none', 'none', 'none', 'none', 'none', 'none', 'none', 'none', 'none', 'none', 'none', 'none', 'none', 'none', 'none', 'none', 'none', ',', 'none', 'none', 'none', 'none', 'none', '.', '.', 'none', 'none', 'none', 'none', 'none', 'none', 'none', 'none', 'none', 'none', 'none', 'none', 'none', 'none', 'none', 'none', 'none', 'none', 'none', 'none', 'none', 'none', 'none', 'none', 'none', 'none', 'none', ',', ',', 'none', 'none', 'none', 'none', 'none', 'none', 'none', 'none', 'none', 'none', 'none', 'none', 'none', 'none', 'none', 'none', 'none', 'none', 'none', 'none', 'none', 'none', 'none', 'none', 'none', 'none', 'none', 'none', 'none', 'none', 'none', 'none', 'none', '.', '.', '.', 'none', 'none', 'none', 'none', 'none', 'none', 'none', 'none', 'none', 'none', 'none', 'none', 'none', 'none', 'none', 'none', 'none', 'none', '.', '.', 'none', 'none', 'none', 'none', 'none', 'none', 'none', 'none', 'none', 'none', 'none', 'none', 'none', 'none', 'none', 'none', 'none', 'none', 'none', 'none', 'none', 'none', 'none', 'none', 'none', 'none', 'none', 'none', 'none', 'none', 'none', 'none', 'none', 'none', 'none', 'none', 'none', 'none', 'none', 'none', 'none', 'none', 'none', 'none', 'none', 'none', 'none', 'none', 'none', 'none', 'none', 'none', 'none', 'none', 'none', 'none', 'none', 'none', 'none', 'none', 'none', 'none', 'none', 'none', 'none', 'none', 'none', 'none', 'none', 'none', 'none', '.', '.', '.', '.', '.', ',', 'none', 'none', 'none', 'none', 'none', 'none', 'none', 'none', 'none', 'none', 'none', 'none', 'none', 'none', ',', ',', ',', ',', ',', 'none', 'none', 'none', 'none', 'none', 'none', 'none', 'none', 'none', 'none', 'none', 'none', 'none', 'none', 'none', 'none', 'none', 'none', ',', ',', ',', 'none', 'none', 'none', 'none', 'none', 'none', '.', '.', '.', '.', '.', '.']\n"
     ]
    }
   ],
   "source": [
    "tokenizer = BertTokenizer.from_pretrained('bert-base-multilingual-uncased')\n",
    "\n",
    "def tokenize(sentences, orig_labels):\n",
    "    tokenized_texts = []\n",
    "    labels = []\n",
    "    for sent, sent_labels in zip(sentences, orig_labels):\n",
    "        bert_tokens = []\n",
    "        bert_labels = []\n",
    "        for orig_token, orig_label in zip(sent, sent_labels):\n",
    "            b_tokens = tokenizer.tokenize(orig_token)\n",
    "            bert_tokens.extend(b_tokens)\n",
    "            for b_token in b_tokens:\n",
    "                bert_labels.append(orig_label)\n",
    "        tokenized_texts.append(bert_tokens)\n",
    "        labels.append(bert_labels)\n",
    "\n",
    "        assert len(bert_tokens) == len(bert_labels)\n",
    "\n",
    "    return tokenized_texts, labels\n",
    "\n",
    "\n",
    "train_tokenized_texts, train_labels = tokenize(x_train, y_train)\n",
    "print(train_tokenized_texts[0])\n",
    "print(train_labels[0])"
   ]
  },
  {
   "cell_type": "code",
   "execution_count": 12,
   "metadata": {},
   "outputs": [
    {
     "name": "stdout",
     "output_type": "stream",
     "text": [
      "{'none': 0, ',': 1, '.': 2, '!': 3, '?': 4}\n",
      "{0: 'none', 1: ',', 2: '.', 3: '!', 4: '?'}\n"
     ]
    }
   ],
   "source": [
    "tags_vals = ['none', ',','.','!','?']\n",
    "tag2idx = {t: i for i, t in enumerate(tags_vals)}\n",
    "idx2tag = {i: t for i, t in enumerate(tags_vals)}\n",
    "print(tag2idx)\n",
    "print(idx2tag)"
   ]
  },
  {
   "cell_type": "code",
   "execution_count": 16,
   "metadata": {},
   "outputs": [],
   "source": [
    "MAX_LEN = 200 ####TO_DO\n",
    "bs = 32 ####TO_DO_TOO\n",
    "\n",
    "def pad_sentences_and_labels(tokenized_texts, labels):\n",
    "    input_ids = pad_sequences([tokenizer.convert_tokens_to_ids(txt) for txt in tokenized_texts],\n",
    "                              maxlen=MAX_LEN, dtype=\"long\", truncating=\"post\", padding=\"post\")\n",
    "\n",
    "    tags = pad_sequences([[tag2idx.get(l) for l in lab] for lab in labels],\n",
    "                         maxlen=MAX_LEN, value=tag2idx[\"none\"], padding=\"post\",\n",
    "                         dtype=\"long\", \n",
    "                         truncating=\"post\")\n",
    "\n",
    "    attention_masks = [[float(i>0) for i in ii] for ii in input_ids]\n",
    "    \n",
    "    return input_ids, tags, attention_masks\n",
    "  \n",
    "\n",
    "input_ids, tags, attention_masks = pad_sentences_and_labels(train_tokenized_texts, train_labels)"
   ]
  },
  {
   "cell_type": "code",
   "execution_count": 17,
   "metadata": {},
   "outputs": [],
   "source": [
    "tr_inputs = torch.tensor(input_ids)\n",
    "tr_tags = torch.tensor(tags)\n",
    "tr_masks = torch.tensor(attention_masks)\n",
    "\n",
    "train_data = TensorDataset(tr_inputs, tr_masks, tr_tags)\n",
    "train_sampler = RandomSampler(train_data)\n",
    "train_dataloader = DataLoader(train_data, sampler=train_sampler, batch_size=bs)"
   ]
  },
  {
   "cell_type": "code",
   "execution_count": 23,
   "metadata": {},
   "outputs": [
    {
     "name": "stdout",
     "output_type": "stream",
     "text": [
      "Device: cpu\n",
      "Number of gpus: 0\n"
     ]
    }
   ],
   "source": [
    "device = torch.device(\"cuda\" if torch.cuda.is_available() else \"cpu\")\n",
    "n_gpu = torch.cuda.device_count()\n",
    "\n",
    "print(\"Device: \" + str(device))\n",
    "print(\"Number of gpus: \" + str(n_gpu))\n",
    "if torch.cuda.is_available():\n",
    "    print(\"Name of gpu: \" + torch.cuda.get_device_name(0))"
   ]
  },
  {
   "cell_type": "code",
   "execution_count": 27,
   "metadata": {},
   "outputs": [
    {
     "name": "stderr",
     "output_type": "stream",
     "text": [
      "Epoch:   0%|                                                                                    | 0/50 [00:00<?, ?it/s]\n"
     ]
    },
    {
     "ename": "RuntimeError",
     "evalue": "Expected tensor for argument #1 'indices' to have scalar type Long; but got CPUIntTensor instead (while checking arguments for embedding)",
     "output_type": "error",
     "traceback": [
      "\u001b[1;31m---------------------------------------------------------------------------\u001b[0m",
      "\u001b[1;31mRuntimeError\u001b[0m                              Traceback (most recent call last)",
      "\u001b[1;32m<ipython-input-27-0924a2afff11>\u001b[0m in \u001b[0;36m<module>\u001b[1;34m\u001b[0m\n\u001b[0;32m     35\u001b[0m         loss = model(b_input_ids, token_type_ids=None,\n\u001b[0;32m     36\u001b[0m                      \u001b[0mattention_mask\u001b[0m\u001b[1;33m=\u001b[0m\u001b[0mb_input_mask\u001b[0m\u001b[1;33m,\u001b[0m\u001b[1;33m\u001b[0m\u001b[0m\n\u001b[1;32m---> 37\u001b[1;33m                      labels=b_labels)\n\u001b[0m\u001b[0;32m     38\u001b[0m         \u001b[1;31m# backward pass\u001b[0m\u001b[1;33m\u001b[0m\u001b[1;33m\u001b[0m\u001b[0m\n\u001b[0;32m     39\u001b[0m         \u001b[0mloss\u001b[0m\u001b[1;33m.\u001b[0m\u001b[0mbackward\u001b[0m\u001b[1;33m(\u001b[0m\u001b[1;33m)\u001b[0m\u001b[1;33m\u001b[0m\u001b[0m\n",
      "\u001b[1;32mc:\\users\\moshe\\appdata\\local\\programs\\python\\python37\\lib\\site-packages\\torch\\nn\\modules\\module.py\u001b[0m in \u001b[0;36m__call__\u001b[1;34m(self, *input, **kwargs)\u001b[0m\n\u001b[0;32m    475\u001b[0m             \u001b[0mresult\u001b[0m \u001b[1;33m=\u001b[0m \u001b[0mself\u001b[0m\u001b[1;33m.\u001b[0m\u001b[0m_slow_forward\u001b[0m\u001b[1;33m(\u001b[0m\u001b[1;33m*\u001b[0m\u001b[0minput\u001b[0m\u001b[1;33m,\u001b[0m \u001b[1;33m**\u001b[0m\u001b[0mkwargs\u001b[0m\u001b[1;33m)\u001b[0m\u001b[1;33m\u001b[0m\u001b[0m\n\u001b[0;32m    476\u001b[0m         \u001b[1;32melse\u001b[0m\u001b[1;33m:\u001b[0m\u001b[1;33m\u001b[0m\u001b[0m\n\u001b[1;32m--> 477\u001b[1;33m             \u001b[0mresult\u001b[0m \u001b[1;33m=\u001b[0m \u001b[0mself\u001b[0m\u001b[1;33m.\u001b[0m\u001b[0mforward\u001b[0m\u001b[1;33m(\u001b[0m\u001b[1;33m*\u001b[0m\u001b[0minput\u001b[0m\u001b[1;33m,\u001b[0m \u001b[1;33m**\u001b[0m\u001b[0mkwargs\u001b[0m\u001b[1;33m)\u001b[0m\u001b[1;33m\u001b[0m\u001b[0m\n\u001b[0m\u001b[0;32m    478\u001b[0m         \u001b[1;32mfor\u001b[0m \u001b[0mhook\u001b[0m \u001b[1;32min\u001b[0m \u001b[0mself\u001b[0m\u001b[1;33m.\u001b[0m\u001b[0m_forward_hooks\u001b[0m\u001b[1;33m.\u001b[0m\u001b[0mvalues\u001b[0m\u001b[1;33m(\u001b[0m\u001b[1;33m)\u001b[0m\u001b[1;33m:\u001b[0m\u001b[1;33m\u001b[0m\u001b[0m\n\u001b[0;32m    479\u001b[0m             \u001b[0mhook_result\u001b[0m \u001b[1;33m=\u001b[0m \u001b[0mhook\u001b[0m\u001b[1;33m(\u001b[0m\u001b[0mself\u001b[0m\u001b[1;33m,\u001b[0m \u001b[0minput\u001b[0m\u001b[1;33m,\u001b[0m \u001b[0mresult\u001b[0m\u001b[1;33m)\u001b[0m\u001b[1;33m\u001b[0m\u001b[0m\n",
      "\u001b[1;32mc:\\users\\moshe\\appdata\\local\\programs\\python\\python37\\lib\\site-packages\\pytorch_pretrained_bert\\modeling.py\u001b[0m in \u001b[0;36mforward\u001b[1;34m(self, input_ids, token_type_ids, attention_mask, labels)\u001b[0m\n\u001b[0;32m   1018\u001b[0m \u001b[1;33m\u001b[0m\u001b[0m\n\u001b[0;32m   1019\u001b[0m     \u001b[1;32mdef\u001b[0m \u001b[0mforward\u001b[0m\u001b[1;33m(\u001b[0m\u001b[0mself\u001b[0m\u001b[1;33m,\u001b[0m \u001b[0minput_ids\u001b[0m\u001b[1;33m,\u001b[0m \u001b[0mtoken_type_ids\u001b[0m\u001b[1;33m=\u001b[0m\u001b[1;32mNone\u001b[0m\u001b[1;33m,\u001b[0m \u001b[0mattention_mask\u001b[0m\u001b[1;33m=\u001b[0m\u001b[1;32mNone\u001b[0m\u001b[1;33m,\u001b[0m \u001b[0mlabels\u001b[0m\u001b[1;33m=\u001b[0m\u001b[1;32mNone\u001b[0m\u001b[1;33m)\u001b[0m\u001b[1;33m:\u001b[0m\u001b[1;33m\u001b[0m\u001b[0m\n\u001b[1;32m-> 1020\u001b[1;33m         \u001b[0msequence_output\u001b[0m\u001b[1;33m,\u001b[0m \u001b[0m_\u001b[0m \u001b[1;33m=\u001b[0m \u001b[0mself\u001b[0m\u001b[1;33m.\u001b[0m\u001b[0mbert\u001b[0m\u001b[1;33m(\u001b[0m\u001b[0minput_ids\u001b[0m\u001b[1;33m,\u001b[0m \u001b[0mtoken_type_ids\u001b[0m\u001b[1;33m,\u001b[0m \u001b[0mattention_mask\u001b[0m\u001b[1;33m,\u001b[0m \u001b[0moutput_all_encoded_layers\u001b[0m\u001b[1;33m=\u001b[0m\u001b[1;32mFalse\u001b[0m\u001b[1;33m)\u001b[0m\u001b[1;33m\u001b[0m\u001b[0m\n\u001b[0m\u001b[0;32m   1021\u001b[0m         \u001b[0msequence_output\u001b[0m \u001b[1;33m=\u001b[0m \u001b[0mself\u001b[0m\u001b[1;33m.\u001b[0m\u001b[0mdropout\u001b[0m\u001b[1;33m(\u001b[0m\u001b[0msequence_output\u001b[0m\u001b[1;33m)\u001b[0m\u001b[1;33m\u001b[0m\u001b[0m\n\u001b[0;32m   1022\u001b[0m         \u001b[0mlogits\u001b[0m \u001b[1;33m=\u001b[0m \u001b[0mself\u001b[0m\u001b[1;33m.\u001b[0m\u001b[0mclassifier\u001b[0m\u001b[1;33m(\u001b[0m\u001b[0msequence_output\u001b[0m\u001b[1;33m)\u001b[0m\u001b[1;33m\u001b[0m\u001b[0m\n",
      "\u001b[1;32mc:\\users\\moshe\\appdata\\local\\programs\\python\\python37\\lib\\site-packages\\torch\\nn\\modules\\module.py\u001b[0m in \u001b[0;36m__call__\u001b[1;34m(self, *input, **kwargs)\u001b[0m\n\u001b[0;32m    475\u001b[0m             \u001b[0mresult\u001b[0m \u001b[1;33m=\u001b[0m \u001b[0mself\u001b[0m\u001b[1;33m.\u001b[0m\u001b[0m_slow_forward\u001b[0m\u001b[1;33m(\u001b[0m\u001b[1;33m*\u001b[0m\u001b[0minput\u001b[0m\u001b[1;33m,\u001b[0m \u001b[1;33m**\u001b[0m\u001b[0mkwargs\u001b[0m\u001b[1;33m)\u001b[0m\u001b[1;33m\u001b[0m\u001b[0m\n\u001b[0;32m    476\u001b[0m         \u001b[1;32melse\u001b[0m\u001b[1;33m:\u001b[0m\u001b[1;33m\u001b[0m\u001b[0m\n\u001b[1;32m--> 477\u001b[1;33m             \u001b[0mresult\u001b[0m \u001b[1;33m=\u001b[0m \u001b[0mself\u001b[0m\u001b[1;33m.\u001b[0m\u001b[0mforward\u001b[0m\u001b[1;33m(\u001b[0m\u001b[1;33m*\u001b[0m\u001b[0minput\u001b[0m\u001b[1;33m,\u001b[0m \u001b[1;33m**\u001b[0m\u001b[0mkwargs\u001b[0m\u001b[1;33m)\u001b[0m\u001b[1;33m\u001b[0m\u001b[0m\n\u001b[0m\u001b[0;32m    478\u001b[0m         \u001b[1;32mfor\u001b[0m \u001b[0mhook\u001b[0m \u001b[1;32min\u001b[0m \u001b[0mself\u001b[0m\u001b[1;33m.\u001b[0m\u001b[0m_forward_hooks\u001b[0m\u001b[1;33m.\u001b[0m\u001b[0mvalues\u001b[0m\u001b[1;33m(\u001b[0m\u001b[1;33m)\u001b[0m\u001b[1;33m:\u001b[0m\u001b[1;33m\u001b[0m\u001b[0m\n\u001b[0;32m    479\u001b[0m             \u001b[0mhook_result\u001b[0m \u001b[1;33m=\u001b[0m \u001b[0mhook\u001b[0m\u001b[1;33m(\u001b[0m\u001b[0mself\u001b[0m\u001b[1;33m,\u001b[0m \u001b[0minput\u001b[0m\u001b[1;33m,\u001b[0m \u001b[0mresult\u001b[0m\u001b[1;33m)\u001b[0m\u001b[1;33m\u001b[0m\u001b[0m\n",
      "\u001b[1;32mc:\\users\\moshe\\appdata\\local\\programs\\python\\python37\\lib\\site-packages\\pytorch_pretrained_bert\\modeling.py\u001b[0m in \u001b[0;36mforward\u001b[1;34m(self, input_ids, token_type_ids, attention_mask, output_all_encoded_layers)\u001b[0m\n\u001b[0;32m    624\u001b[0m         \u001b[0mextended_attention_mask\u001b[0m \u001b[1;33m=\u001b[0m \u001b[1;33m(\u001b[0m\u001b[1;36m1.0\u001b[0m \u001b[1;33m-\u001b[0m \u001b[0mextended_attention_mask\u001b[0m\u001b[1;33m)\u001b[0m \u001b[1;33m*\u001b[0m \u001b[1;33m-\u001b[0m\u001b[1;36m10000.0\u001b[0m\u001b[1;33m\u001b[0m\u001b[0m\n\u001b[0;32m    625\u001b[0m \u001b[1;33m\u001b[0m\u001b[0m\n\u001b[1;32m--> 626\u001b[1;33m         \u001b[0membedding_output\u001b[0m \u001b[1;33m=\u001b[0m \u001b[0mself\u001b[0m\u001b[1;33m.\u001b[0m\u001b[0membeddings\u001b[0m\u001b[1;33m(\u001b[0m\u001b[0minput_ids\u001b[0m\u001b[1;33m,\u001b[0m \u001b[0mtoken_type_ids\u001b[0m\u001b[1;33m)\u001b[0m\u001b[1;33m\u001b[0m\u001b[0m\n\u001b[0m\u001b[0;32m    627\u001b[0m         encoded_layers = self.encoder(embedding_output,\n\u001b[0;32m    628\u001b[0m                                       \u001b[0mextended_attention_mask\u001b[0m\u001b[1;33m,\u001b[0m\u001b[1;33m\u001b[0m\u001b[0m\n",
      "\u001b[1;32mc:\\users\\moshe\\appdata\\local\\programs\\python\\python37\\lib\\site-packages\\torch\\nn\\modules\\module.py\u001b[0m in \u001b[0;36m__call__\u001b[1;34m(self, *input, **kwargs)\u001b[0m\n\u001b[0;32m    475\u001b[0m             \u001b[0mresult\u001b[0m \u001b[1;33m=\u001b[0m \u001b[0mself\u001b[0m\u001b[1;33m.\u001b[0m\u001b[0m_slow_forward\u001b[0m\u001b[1;33m(\u001b[0m\u001b[1;33m*\u001b[0m\u001b[0minput\u001b[0m\u001b[1;33m,\u001b[0m \u001b[1;33m**\u001b[0m\u001b[0mkwargs\u001b[0m\u001b[1;33m)\u001b[0m\u001b[1;33m\u001b[0m\u001b[0m\n\u001b[0;32m    476\u001b[0m         \u001b[1;32melse\u001b[0m\u001b[1;33m:\u001b[0m\u001b[1;33m\u001b[0m\u001b[0m\n\u001b[1;32m--> 477\u001b[1;33m             \u001b[0mresult\u001b[0m \u001b[1;33m=\u001b[0m \u001b[0mself\u001b[0m\u001b[1;33m.\u001b[0m\u001b[0mforward\u001b[0m\u001b[1;33m(\u001b[0m\u001b[1;33m*\u001b[0m\u001b[0minput\u001b[0m\u001b[1;33m,\u001b[0m \u001b[1;33m**\u001b[0m\u001b[0mkwargs\u001b[0m\u001b[1;33m)\u001b[0m\u001b[1;33m\u001b[0m\u001b[0m\n\u001b[0m\u001b[0;32m    478\u001b[0m         \u001b[1;32mfor\u001b[0m \u001b[0mhook\u001b[0m \u001b[1;32min\u001b[0m \u001b[0mself\u001b[0m\u001b[1;33m.\u001b[0m\u001b[0m_forward_hooks\u001b[0m\u001b[1;33m.\u001b[0m\u001b[0mvalues\u001b[0m\u001b[1;33m(\u001b[0m\u001b[1;33m)\u001b[0m\u001b[1;33m:\u001b[0m\u001b[1;33m\u001b[0m\u001b[0m\n\u001b[0;32m    479\u001b[0m             \u001b[0mhook_result\u001b[0m \u001b[1;33m=\u001b[0m \u001b[0mhook\u001b[0m\u001b[1;33m(\u001b[0m\u001b[0mself\u001b[0m\u001b[1;33m,\u001b[0m \u001b[0minput\u001b[0m\u001b[1;33m,\u001b[0m \u001b[0mresult\u001b[0m\u001b[1;33m)\u001b[0m\u001b[1;33m\u001b[0m\u001b[0m\n",
      "\u001b[1;32mc:\\users\\moshe\\appdata\\local\\programs\\python\\python37\\lib\\site-packages\\pytorch_pretrained_bert\\modeling.py\u001b[0m in \u001b[0;36mforward\u001b[1;34m(self, input_ids, token_type_ids)\u001b[0m\n\u001b[0;32m    191\u001b[0m             \u001b[0mtoken_type_ids\u001b[0m \u001b[1;33m=\u001b[0m \u001b[0mtorch\u001b[0m\u001b[1;33m.\u001b[0m\u001b[0mzeros_like\u001b[0m\u001b[1;33m(\u001b[0m\u001b[0minput_ids\u001b[0m\u001b[1;33m)\u001b[0m\u001b[1;33m\u001b[0m\u001b[0m\n\u001b[0;32m    192\u001b[0m \u001b[1;33m\u001b[0m\u001b[0m\n\u001b[1;32m--> 193\u001b[1;33m         \u001b[0mwords_embeddings\u001b[0m \u001b[1;33m=\u001b[0m \u001b[0mself\u001b[0m\u001b[1;33m.\u001b[0m\u001b[0mword_embeddings\u001b[0m\u001b[1;33m(\u001b[0m\u001b[0minput_ids\u001b[0m\u001b[1;33m)\u001b[0m\u001b[1;33m\u001b[0m\u001b[0m\n\u001b[0m\u001b[0;32m    194\u001b[0m         \u001b[0mposition_embeddings\u001b[0m \u001b[1;33m=\u001b[0m \u001b[0mself\u001b[0m\u001b[1;33m.\u001b[0m\u001b[0mposition_embeddings\u001b[0m\u001b[1;33m(\u001b[0m\u001b[0mposition_ids\u001b[0m\u001b[1;33m)\u001b[0m\u001b[1;33m\u001b[0m\u001b[0m\n\u001b[0;32m    195\u001b[0m         \u001b[0mtoken_type_embeddings\u001b[0m \u001b[1;33m=\u001b[0m \u001b[0mself\u001b[0m\u001b[1;33m.\u001b[0m\u001b[0mtoken_type_embeddings\u001b[0m\u001b[1;33m(\u001b[0m\u001b[0mtoken_type_ids\u001b[0m\u001b[1;33m)\u001b[0m\u001b[1;33m\u001b[0m\u001b[0m\n",
      "\u001b[1;32mc:\\users\\moshe\\appdata\\local\\programs\\python\\python37\\lib\\site-packages\\torch\\nn\\modules\\module.py\u001b[0m in \u001b[0;36m__call__\u001b[1;34m(self, *input, **kwargs)\u001b[0m\n\u001b[0;32m    475\u001b[0m             \u001b[0mresult\u001b[0m \u001b[1;33m=\u001b[0m \u001b[0mself\u001b[0m\u001b[1;33m.\u001b[0m\u001b[0m_slow_forward\u001b[0m\u001b[1;33m(\u001b[0m\u001b[1;33m*\u001b[0m\u001b[0minput\u001b[0m\u001b[1;33m,\u001b[0m \u001b[1;33m**\u001b[0m\u001b[0mkwargs\u001b[0m\u001b[1;33m)\u001b[0m\u001b[1;33m\u001b[0m\u001b[0m\n\u001b[0;32m    476\u001b[0m         \u001b[1;32melse\u001b[0m\u001b[1;33m:\u001b[0m\u001b[1;33m\u001b[0m\u001b[0m\n\u001b[1;32m--> 477\u001b[1;33m             \u001b[0mresult\u001b[0m \u001b[1;33m=\u001b[0m \u001b[0mself\u001b[0m\u001b[1;33m.\u001b[0m\u001b[0mforward\u001b[0m\u001b[1;33m(\u001b[0m\u001b[1;33m*\u001b[0m\u001b[0minput\u001b[0m\u001b[1;33m,\u001b[0m \u001b[1;33m**\u001b[0m\u001b[0mkwargs\u001b[0m\u001b[1;33m)\u001b[0m\u001b[1;33m\u001b[0m\u001b[0m\n\u001b[0m\u001b[0;32m    478\u001b[0m         \u001b[1;32mfor\u001b[0m \u001b[0mhook\u001b[0m \u001b[1;32min\u001b[0m \u001b[0mself\u001b[0m\u001b[1;33m.\u001b[0m\u001b[0m_forward_hooks\u001b[0m\u001b[1;33m.\u001b[0m\u001b[0mvalues\u001b[0m\u001b[1;33m(\u001b[0m\u001b[1;33m)\u001b[0m\u001b[1;33m:\u001b[0m\u001b[1;33m\u001b[0m\u001b[0m\n\u001b[0;32m    479\u001b[0m             \u001b[0mhook_result\u001b[0m \u001b[1;33m=\u001b[0m \u001b[0mhook\u001b[0m\u001b[1;33m(\u001b[0m\u001b[0mself\u001b[0m\u001b[1;33m,\u001b[0m \u001b[0minput\u001b[0m\u001b[1;33m,\u001b[0m \u001b[0mresult\u001b[0m\u001b[1;33m)\u001b[0m\u001b[1;33m\u001b[0m\u001b[0m\n",
      "\u001b[1;32mc:\\users\\moshe\\appdata\\local\\programs\\python\\python37\\lib\\site-packages\\torch\\nn\\modules\\sparse.py\u001b[0m in \u001b[0;36mforward\u001b[1;34m(self, input)\u001b[0m\n\u001b[0;32m    108\u001b[0m         return F.embedding(\n\u001b[0;32m    109\u001b[0m             \u001b[0minput\u001b[0m\u001b[1;33m,\u001b[0m \u001b[0mself\u001b[0m\u001b[1;33m.\u001b[0m\u001b[0mweight\u001b[0m\u001b[1;33m,\u001b[0m \u001b[0mself\u001b[0m\u001b[1;33m.\u001b[0m\u001b[0mpadding_idx\u001b[0m\u001b[1;33m,\u001b[0m \u001b[0mself\u001b[0m\u001b[1;33m.\u001b[0m\u001b[0mmax_norm\u001b[0m\u001b[1;33m,\u001b[0m\u001b[1;33m\u001b[0m\u001b[0m\n\u001b[1;32m--> 110\u001b[1;33m             self.norm_type, self.scale_grad_by_freq, self.sparse)\n\u001b[0m\u001b[0;32m    111\u001b[0m \u001b[1;33m\u001b[0m\u001b[0m\n\u001b[0;32m    112\u001b[0m     \u001b[1;32mdef\u001b[0m \u001b[0mextra_repr\u001b[0m\u001b[1;33m(\u001b[0m\u001b[0mself\u001b[0m\u001b[1;33m)\u001b[0m\u001b[1;33m:\u001b[0m\u001b[1;33m\u001b[0m\u001b[0m\n",
      "\u001b[1;32mc:\\users\\moshe\\appdata\\local\\programs\\python\\python37\\lib\\site-packages\\torch\\nn\\functional.py\u001b[0m in \u001b[0;36membedding\u001b[1;34m(input, weight, padding_idx, max_norm, norm_type, scale_grad_by_freq, sparse)\u001b[0m\n\u001b[0;32m   1108\u001b[0m         \u001b[1;32mwith\u001b[0m \u001b[0mtorch\u001b[0m\u001b[1;33m.\u001b[0m\u001b[0mno_grad\u001b[0m\u001b[1;33m(\u001b[0m\u001b[1;33m)\u001b[0m\u001b[1;33m:\u001b[0m\u001b[1;33m\u001b[0m\u001b[0m\n\u001b[0;32m   1109\u001b[0m             \u001b[0mtorch\u001b[0m\u001b[1;33m.\u001b[0m\u001b[0membedding_renorm_\u001b[0m\u001b[1;33m(\u001b[0m\u001b[0mweight\u001b[0m\u001b[1;33m,\u001b[0m \u001b[0minput\u001b[0m\u001b[1;33m,\u001b[0m \u001b[0mmax_norm\u001b[0m\u001b[1;33m,\u001b[0m \u001b[0mnorm_type\u001b[0m\u001b[1;33m)\u001b[0m\u001b[1;33m\u001b[0m\u001b[0m\n\u001b[1;32m-> 1110\u001b[1;33m     \u001b[1;32mreturn\u001b[0m \u001b[0mtorch\u001b[0m\u001b[1;33m.\u001b[0m\u001b[0membedding\u001b[0m\u001b[1;33m(\u001b[0m\u001b[0mweight\u001b[0m\u001b[1;33m,\u001b[0m \u001b[0minput\u001b[0m\u001b[1;33m,\u001b[0m \u001b[0mpadding_idx\u001b[0m\u001b[1;33m,\u001b[0m \u001b[0mscale_grad_by_freq\u001b[0m\u001b[1;33m,\u001b[0m \u001b[0msparse\u001b[0m\u001b[1;33m)\u001b[0m\u001b[1;33m\u001b[0m\u001b[0m\n\u001b[0m\u001b[0;32m   1111\u001b[0m \u001b[1;33m\u001b[0m\u001b[0m\n\u001b[0;32m   1112\u001b[0m \u001b[1;33m\u001b[0m\u001b[0m\n",
      "\u001b[1;31mRuntimeError\u001b[0m: Expected tensor for argument #1 'indices' to have scalar type Long; but got CPUIntTensor instead (while checking arguments for embedding)"
     ]
    }
   ],
   "source": [
    "model = BertForTokenClassification.from_pretrained(\"bert-base-multilingual-uncased\", num_labels=len(tag2idx))\n",
    "#model.cuda()\n",
    "\n",
    "param_optimizer = list(model.named_parameters())\n",
    "no_decay = ['bias', 'gamma', 'beta']\n",
    "optimizer_grouped_parameters = [\n",
    "    {'params': [p for n, p in param_optimizer if not any(nd in n for nd in no_decay)],\n",
    "        'weight_decay_rate': 0.01},\n",
    "    {'params': [p for n, p in param_optimizer if any(nd in n for nd in no_decay)],\n",
    "        'weight_decay_rate': 0.0}]\n",
    "\n",
    "optimizer = Adam(optimizer_grouped_parameters, lr=3e-5)\n",
    "\n",
    "from seqeval.metrics import f1_score\n",
    "\n",
    "def flat_accuracy(preds, labels):\n",
    "    pred_flat = np.argmax(preds, axis=2).flatten()\n",
    "    labels_flat = labels.flatten()\n",
    "    return np.sum(pred_flat == labels_flat) / len(labels_flat)\n",
    "\n",
    "\n",
    "epochs = 50\n",
    "max_grad_norm = 1.0\n",
    "\n",
    "for _ in trange(epochs, desc=\"Epoch\"):\n",
    "    # TRAIN loop\n",
    "    model.train()\n",
    "    tr_loss = 0\n",
    "    nb_tr_examples, nb_tr_steps = 0, 0\n",
    "    for step, batch in enumerate(train_dataloader):\n",
    "        # add batch to gpu\n",
    "        batch = tuple(t.to(device) for t in batch)\n",
    "        b_input_ids, b_input_mask, b_labels = batch\n",
    "        # forward pass\n",
    "        loss = model(b_input_ids, token_type_ids=None,\n",
    "                     attention_mask=b_input_mask,\n",
    "                     labels=b_labels)\n",
    "        # backward pass\n",
    "        loss.backward()\n",
    "        # track train loss\n",
    "        tr_loss += loss.item()\n",
    "        nb_tr_examples += b_input_ids.size(0)\n",
    "        nb_tr_steps += 1\n",
    "        # gradient clipping\n",
    "        torch.nn.utils.clip_grad_norm_(parameters=model.parameters(), max_norm=max_grad_norm)\n",
    "        # update parameters\n",
    "        optimizer.step()\n",
    "        model.zero_grad()\n",
    "    # print train loss per epoch\n",
    "    print(\"Train loss: {}\".format(tr_loss / nb_tr_steps))"
   ]
  },
  {
   "cell_type": "code",
   "execution_count": null,
   "metadata": {},
   "outputs": [],
   "source": []
  },
  {
   "cell_type": "code",
   "execution_count": null,
   "metadata": {},
   "outputs": [],
   "source": []
  }
 ],
 "metadata": {
  "kernelspec": {
   "display_name": "Python 3",
   "language": "python",
   "name": "python3"
  },
  "language_info": {
   "codemirror_mode": {
    "name": "ipython",
    "version": 3
   },
   "file_extension": ".py",
   "mimetype": "text/x-python",
   "name": "python",
   "nbconvert_exporter": "python",
   "pygments_lexer": "ipython3",
   "version": "3.7.0"
  }
 },
 "nbformat": 4,
 "nbformat_minor": 2
}
