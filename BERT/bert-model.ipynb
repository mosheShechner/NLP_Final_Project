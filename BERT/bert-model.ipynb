{
 "cells": [
  {
   "cell_type": "code",
   "execution_count": 3,
   "metadata": {},
   "outputs": [
    {
     "name": "stdout",
     "output_type": "stream",
     "text": [
      "Requirement already satisfied: seqeval==0.0.5 in c:\\users\\moshe\\appdata\\local\\programs\\python\\python37\\lib\\site-packages (0.0.5)\n",
      "Requirement already satisfied: numpy>=1.14.0 in c:\\users\\moshe\\appdata\\local\\programs\\python\\python37\\lib\\site-packages (from seqeval==0.0.5) (1.16.2)\n"
     ]
    },
    {
     "name": "stderr",
     "output_type": "stream",
     "text": [
      "You are using pip version 10.0.1, however version 19.0.3 is available.\n",
      "You should consider upgrading via the 'python -m pip install --upgrade pip' command.\n"
     ]
    },
    {
     "name": "stdout",
     "output_type": "stream",
     "text": [
      "Requirement already satisfied: pytorch_pretrained_bert==0.4.0 in c:\\users\\moshe\\appdata\\local\\programs\\python\\python37\\lib\\site-packages (0.4.0)\n",
      "Requirement already satisfied: torch>=0.4.1 in c:\\users\\moshe\\appdata\\local\\programs\\python\\python37\\lib\\site-packages (from pytorch_pretrained_bert==0.4.0) (0.4.1)\n",
      "Requirement already satisfied: boto3 in c:\\users\\moshe\\appdata\\local\\programs\\python\\python37\\lib\\site-packages (from pytorch_pretrained_bert==0.4.0) (1.9.131)\n",
      "Requirement already satisfied: numpy in c:\\users\\moshe\\appdata\\local\\programs\\python\\python37\\lib\\site-packages (from pytorch_pretrained_bert==0.4.0) (1.16.2)\n",
      "Requirement already satisfied: tqdm in c:\\users\\moshe\\appdata\\local\\programs\\python\\python37\\lib\\site-packages (from pytorch_pretrained_bert==0.4.0) (4.31.0)\n",
      "Requirement already satisfied: requests in c:\\users\\moshe\\appdata\\local\\programs\\python\\python37\\lib\\site-packages (from pytorch_pretrained_bert==0.4.0) (2.21.0)\n",
      "Requirement already satisfied: botocore<1.13.0,>=1.12.131 in c:\\users\\moshe\\appdata\\local\\programs\\python\\python37\\lib\\site-packages (from boto3->pytorch_pretrained_bert==0.4.0) (1.12.131)\n",
      "Requirement already satisfied: s3transfer<0.3.0,>=0.2.0 in c:\\users\\moshe\\appdata\\local\\programs\\python\\python37\\lib\\site-packages (from boto3->pytorch_pretrained_bert==0.4.0) (0.2.0)\n",
      "Requirement already satisfied: jmespath<1.0.0,>=0.7.1 in c:\\users\\moshe\\appdata\\local\\programs\\python\\python37\\lib\\site-packages (from boto3->pytorch_pretrained_bert==0.4.0) (0.9.4)\n",
      "Requirement already satisfied: certifi>=2017.4.17 in c:\\users\\moshe\\appdata\\local\\programs\\python\\python37\\lib\\site-packages (from requests->pytorch_pretrained_bert==0.4.0) (2019.3.9)\n",
      "Requirement already satisfied: urllib3<1.25,>=1.21.1 in c:\\users\\moshe\\appdata\\local\\programs\\python\\python37\\lib\\site-packages (from requests->pytorch_pretrained_bert==0.4.0) (1.24.1)\n",
      "Requirement already satisfied: chardet<3.1.0,>=3.0.2 in c:\\users\\moshe\\appdata\\local\\programs\\python\\python37\\lib\\site-packages (from requests->pytorch_pretrained_bert==0.4.0) (3.0.4)\n",
      "Requirement already satisfied: idna<2.9,>=2.5 in c:\\users\\moshe\\appdata\\local\\programs\\python\\python37\\lib\\site-packages (from requests->pytorch_pretrained_bert==0.4.0) (2.8)\n",
      "Requirement already satisfied: python-dateutil<3.0.0,>=2.1; python_version >= \"2.7\" in c:\\users\\moshe\\appdata\\roaming\\python\\python37\\site-packages (from botocore<1.13.0,>=1.12.131->boto3->pytorch_pretrained_bert==0.4.0) (2.7.5)\n",
      "Requirement already satisfied: docutils>=0.10 in c:\\users\\moshe\\appdata\\local\\programs\\python\\python37\\lib\\site-packages (from botocore<1.13.0,>=1.12.131->boto3->pytorch_pretrained_bert==0.4.0) (0.14)\n",
      "Requirement already satisfied: six>=1.5 in c:\\users\\moshe\\appdata\\local\\programs\\python\\python37\\lib\\site-packages (from python-dateutil<3.0.0,>=2.1; python_version >= \"2.7\"->botocore<1.13.0,>=1.12.131->boto3->pytorch_pretrained_bert==0.4.0) (1.12.0)\n"
     ]
    },
    {
     "name": "stderr",
     "output_type": "stream",
     "text": [
      "You are using pip version 10.0.1, however version 19.0.3 is available.\n",
      "You should consider upgrading via the 'python -m pip install --upgrade pip' command.\n"
     ]
    }
   ],
   "source": [
    "!pip install seqeval==0.0.5\n",
    "!pip install pytorch_pretrained_bert==0.4.0\n",
    "\n",
    "import os\n",
    "\n",
    "# import pandas as pd\n",
    "import numpy as np\n",
    "from tqdm import tqdm, trange\n",
    "\n",
    "import torch\n",
    "from torch.optim import Adam\n",
    "from torch.utils.data import TensorDataset, DataLoader, RandomSampler, SequentialSampler\n",
    "# from keras.preprocessing.sequence import pad_sequences\n",
    "from sklearn.model_selection import train_test_split\n",
    "from sklearn.metrics import classification_report\n",
    "from pytorch_pretrained_bert import BertTokenizer, BertConfig\n",
    "from pytorch_pretrained_bert import BertForTokenClassification, BertAdam"
   ]
  },
  {
   "cell_type": "code",
   "execution_count": 4,
   "metadata": {},
   "outputs": [],
   "source": [
    "import os \n",
    "import sys\n",
    "sys.path.append('..\\GenerationPipe')\n",
    "import NLP_HEBPUNCT_GP_generator as gen\n",
    "import NLP_HEBPUNCT_GP_pre_processing as preproc\n",
    "import subprocess\n",
    "from subprocess import check_output"
   ]
  },
  {
   "cell_type": "code",
   "execution_count": 5,
   "metadata": {},
   "outputs": [
    {
     "name": "stdout",
     "output_type": "stream",
     "text": [
      "DEBUG adding to data set URL: https://he.wikipedia.org/wiki/%D7%A7%D7%A4%D7%99%D7%98%D7%9C%D7%99%D7%96%D7%9D\n",
      "DEBUG adding to data set URL: https://he.wikipedia.org/wiki/%D7%A7%D7%A8%D7%9C_%D7%9E%D7%A8%D7%A7%D7%A1\n",
      "DEBUG adding to data set URL: https://he.wikipedia.org/wiki/%D7%90%D7%99%D7%9C%D7%9F_%D7%A8%D7%9E%D7%95%D7%9F\n",
      "DEBUG adding to data set URL: https://he.wikipedia.org/wiki/%D7%90%D7%9C%D7%91%D7%A8%D7%98_%D7%90%D7%99%D7%99%D7%A0%D7%A9%D7%98%D7%99%D7%99%D7%9F\n",
      "DEBUG adding to data set URL: https://he.wikipedia.org/wiki/%D7%A7%D7%A8%D7%99%D7%A4%D7%98%D7%95%D7%92%D7%A8%D7%A4%D7%99%D7%94\n",
      "DEBUG adding to data set URL: https://he.wikipedia.org/wiki/%D7%9E%D7%92%D7%93%D7%9C%D7%99_%D7%94%D7%90%D7%A0%D7%95%D7%99\n",
      "DEBUG adding to data set URL: https://he.wikipedia.org/wiki/%D7%90%D7%93%D7%95%D7%95%D7%99%D7%9F_%D7%94%D7%90%D7%91%D7%9C\n",
      "DEBUG adding to data set URL: https://he.wikipedia.org/wiki/%D7%94%D7%A9%D7%93%D7%94_%D7%94%D7%9E%D7%92%D7%A0%D7%98%D7%99_%D7%A9%D7%9C_%D7%9B%D7%93%D7%95%D7%A8_%D7%94%D7%90%D7%A8%D7%A5\n",
      "DEBUG adding to data set URL: https://he.wikipedia.org/wiki/%D7%97%D7%95%D7%A7%D7%99_%D7%A7%D7%A4%D7%9C%D7%A8\n",
      "DEBUG adding to data set URL: https://he.wikipedia.org/wiki/%D7%A4%D7%95%D7%98%D7%95%D7%9F\n",
      "DEBUG adding to data set URL: https://he.wikipedia.org/wiki/%D7%9E%D7%A8%D7%97%D7%91-%D7%96%D7%9E%D7%9F\n",
      "DEBUG adding to data set URL: https://he.wikipedia.org/wiki/%D7%97%D7%95%D7%A8_%D7%A9%D7%97%D7%95%D7%A8\n",
      "DEBUG adding to data set URL: https://he.wikipedia.org/wiki/%D7%9E%D7%A9%D7%A4%D7%98_%D7%A9%D7%9C%D7%9E%D7%94\n",
      "DEBUG adding to data set URL: https://he.wikipedia.org/wiki/%D7%92%D7%A0%D7%99%D7%91%D7%AA_%D7%94%D7%91%D7%A8%D7%9B%D7%95%D7%AA\n",
      "DEBUG adding to data set URL: https://he.wikipedia.org/wiki/%D7%99%D7%94%D7%93%D7%95%D7%AA_%D7%A7%D7%95%D7%A0%D7%A1%D7%A8%D7%91%D7%98%D7%99%D7%91%D7%99%D7%AA\n",
      "DEBUG adding to data set URL: https://he.wikipedia.org/wiki/%D7%99%D7%94%D7%93%D7%95%D7%AA_%D7%A7%D7%A8%D7%90%D7%99%D7%AA\n",
      "DEBUG adding to data set URL: https://he.wikipedia.org/wiki/%D7%AA%D7%A0%D7%95%D7%A2%D7%AA_%D7%94%D7%97%D7%A1%D7%99%D7%93%D7%95%D7%AA\n",
      "DEBUG adding to data set URL: https://he.wikipedia.org/wiki/%D7%99%D7%A8%D7%95%D7%A9%D7%9C%D7%99%D7%9D_%D7%91%D7%AA%D7%A7%D7%95%D7%A4%D7%AA_%D7%91%D7%99%D7%AA_%D7%A9%D7%A0%D7%99\n",
      "DEBUG adding to data set URL: https://he.wikipedia.org/wiki/%D7%90%D7%A8%D7%99%D7%AA%D7%9E%D7%98%D7%99%D7%A7%D7%94\n",
      "DEBUG adding to data set URL: https://he.wikipedia.org/wiki/%D7%97%D7%96%D7%A7%D7%94_(%D7%9E%D7%AA%D7%9E%D7%98%D7%99%D7%A7%D7%94)\n",
      "DEBUG adding to data set URL: https://he.wikipedia.org/wiki/%D7%97%D7%99%D7%93%D7%95%D7%AA_%D7%97%D7%99%D7%AA%D7%95%D7%9A_%D7%95%D7%94%D7%A8%D7%9B%D7%91%D7%94\n",
      "DEBUG adding to data set URL: https://he.wikipedia.org/wiki/%D7%A4%D7%95%D7%A8%D7%98%D7%9C:%D7%A2%D7%A8%D7%9B%D7%99%D7%9D_%D7%9E%D7%95%D7%9E%D7%9C%D7%A6%D7%99%D7%9D/%D7%A2%D7%A8%D7%9B%D7%99%D7%9D/%D7%A7%D7%98%D7%9C%D7%9F\n",
      "DEBUG adding to data set URL: https://he.wikipedia.org/wiki/%D7%A4%D7%95%D7%A8%D7%98%D7%9C:%D7%A2%D7%A8%D7%9B%D7%99%D7%9D_%D7%9E%D7%95%D7%9E%D7%9C%D7%A6%D7%99%D7%9D/%D7%A2%D7%A8%D7%9B%D7%99%D7%9D/%D7%A9%D7%9E%D7%95%D7%A8%D7%95%D7%AA_%D7%94%D7%A4%D7%A0%D7%93%D7%94_%D7%94%D7%A2%D7%A0%D7%A7_%D7%91%D7%A1%D7%A6%27%D7%95%D7%90%D7%9F\n",
      "DEBUG adding to data set URL: https://he.wikipedia.org/wiki/%D7%A4%D7%95%D7%A8%D7%98%D7%9C:%D7%A2%D7%A8%D7%9B%D7%99%D7%9D_%D7%9E%D7%95%D7%9E%D7%9C%D7%A6%D7%99%D7%9D/%D7%A2%D7%A8%D7%9B%D7%99%D7%9D/%D7%A9%D7%97%D7%A4%D7%99%D7%AA_%D7%94%D7%A7%D7%95%D7%98%D7%91\n",
      "DEBUG adding to data set URL: https://he.wikipedia.org/wiki/%D7%A4%D7%95%D7%A8%D7%98%D7%9C:%D7%A2%D7%A8%D7%9B%D7%99%D7%9D_%D7%9E%D7%95%D7%9E%D7%9C%D7%A6%D7%99%D7%9D/%D7%A2%D7%A8%D7%9B%D7%99%D7%9D/%D7%A9%D7%99%D7%9E%D7%A4%D7%A0%D7%96%D7%94_%D7%9E%D7%A6%D7%95%D7%99\n",
      "DEBUG adding to data set URL: https://he.wikipedia.org/wiki/%D7%A4%D7%95%D7%A8%D7%98%D7%9C:%D7%A2%D7%A8%D7%9B%D7%99%D7%9D_%D7%9E%D7%95%D7%9E%D7%9C%D7%A6%D7%99%D7%9D/%D7%A2%D7%A8%D7%9B%D7%99%D7%9D/%D7%A9%D7%99%D7%A8%D7%AA_%D7%94%D7%9C%D7%95%D7%95%D7%99%D7%99%D7%AA%D7%9F\n",
      "DEBUG adding to data set URL: https://he.wikipedia.org/wiki/%D7%A4%D7%95%D7%A8%D7%98%D7%9C:%D7%A2%D7%A8%D7%9B%D7%99%D7%9D_%D7%9E%D7%95%D7%9E%D7%9C%D7%A6%D7%99%D7%9D/%D7%A2%D7%A8%D7%9B%D7%99%D7%9D/%D7%AA%D7%A0%D7%99%D7%A0%D7%90%D7%99%D7%9D\n",
      "DEBUG adding to data set URL: https://he.wikipedia.org/wiki/%D7%A4%D7%95%D7%A8%D7%98%D7%9C:%D7%A2%D7%A8%D7%9B%D7%99%D7%9D_%D7%9E%D7%95%D7%9E%D7%9C%D7%A6%D7%99%D7%9D/%D7%A2%D7%A8%D7%9B%D7%99%D7%9D/%D7%94%D7%90%D7%93%D7%9D_%D7%94%D7%A0%D7%99%D7%90%D7%A0%D7%93%D7%A8%D7%98%D7%9C%D7%99\n",
      "DEBUG adding to data set URL: https://he.wikipedia.org/wiki/%D7%A4%D7%95%D7%A8%D7%98%D7%9C:%D7%A2%D7%A8%D7%9B%D7%99%D7%9D_%D7%9E%D7%95%D7%9E%D7%9C%D7%A6%D7%99%D7%9D/%D7%A2%D7%A8%D7%9B%D7%99%D7%9D/%D7%94%D7%95%D7%9E%D7%95_%D7%90%D7%A8%D7%A7%D7%98%D7%95%D7%A1\n",
      "DEBUG adding to data set URL: https://he.wikipedia.org/wiki/%D7%A4%D7%95%D7%A8%D7%98%D7%9C:%D7%A2%D7%A8%D7%9B%D7%99%D7%9D_%D7%9E%D7%95%D7%9E%D7%9C%D7%A6%D7%99%D7%9D/%D7%A2%D7%A8%D7%9B%D7%99%D7%9D/%D7%94%D7%95%D7%9E%D7%95_%D7%A4%D7%9C%D7%95%D7%A8%D7%A1%D7%99%D7%99%D7%A0%D7%A1%D7%99%D7%A1\n",
      "DEBUG adding to data set URL: https://he.wikipedia.org/wiki/%D7%A4%D7%95%D7%A8%D7%98%D7%9C:%D7%A2%D7%A8%D7%9B%D7%99%D7%9D_%D7%9E%D7%95%D7%9E%D7%9C%D7%A6%D7%99%D7%9D/%D7%A2%D7%A8%D7%9B%D7%99%D7%9D/%D7%94%D7%99%D7%A4%D7%95%D7%A4%D7%95%D7%98%D7%9D\n",
      "DEBUG adding to data set URL: https://he.wikipedia.org/wiki/%D7%A4%D7%95%D7%A8%D7%98%D7%9C:%D7%A2%D7%A8%D7%9B%D7%99%D7%9D_%D7%9E%D7%95%D7%9E%D7%9C%D7%A6%D7%99%D7%9D/%D7%A2%D7%A8%D7%9B%D7%99%D7%9D/%D7%91%D7%99%D7%9C%D7%91%D7%99_%D7%A2%D7%A0%D7%A7\n",
      "DEBUG adding to data set URL: https://he.wikipedia.org/wiki/%D7%A4%D7%95%D7%A8%D7%98%D7%9C:%D7%A2%D7%A8%D7%9B%D7%99%D7%9D_%D7%9E%D7%95%D7%9E%D7%9C%D7%A6%D7%99%D7%9D/%D7%A2%D7%A8%D7%9B%D7%99%D7%9D/%D7%A0%D7%93%D7%99%D7%93%D7%AA_%D7%A2%D7%95%D7%A4%D7%95%D7%AA\n",
      "DEBUG adding to data set URL: https://he.wikipedia.org/wiki/%D7%A8%D7%99%D7%A6%27%D7%A8%D7%93_%D7%93%D7%95%D7%A7%D7%99%D7%A0%D7%A1\n",
      "DEBUG adding to data set URL: https://he.wikipedia.org/wiki/%D7%A0%D7%99%D7%A1%D7%95%D7%99%D7%99%D7%9D_%D7%91%D7%9C%D7%A9%D7%A0%D7%99%D7%99%D7%9D_%D7%91%D7%A7%D7%95%D7%A4%D7%99_%D7%90%D7%93%D7%9D\n",
      "DEBUG adding to data set URL: https://he.wikipedia.org/wiki/%D7%92%27%D7%99%D7%A0%D7%92%27%D7%99\n",
      "DEBUG adding to data set URL: https://he.wikipedia.org/wiki/%D7%A1%D7%9E%D7%99%D7%9D_%D7%91%D7%A1%D7%A4%D7%95%D7%A8%D7%98\n",
      "DEBUG adding to data set URL: https://he.wikipedia.org/wiki/%D7%90%D7%A8%D7%A1\n",
      "DEBUG adding to data set URL: https://he.wikipedia.org/wiki/%D7%A7%D7%9C%D7%A8%D7%94_%D7%91%D7%A8%D7%98%D7%95%D7%9F\n",
      "DEBUG adding to data set URL: https://he.wikipedia.org/wiki/%D7%91%D7%AA%D7%99%D7%A8%D7%AA_%D7%90%D7%91%D7%99_%D7%94%D7%A2%D7%95%D7%A8%D7%A7%D7%99%D7%9D\n",
      "DEBUG adding to data set URL: https://he.wikipedia.org/wiki/%D7%A9%D7%93%D7%A8%D7%95%D7%AA_%D7%A8%D7%95%D7%98%D7%A9%D7%99%D7%9C%D7%93\n",
      "DEBUG adding to data set URL: https://he.wikipedia.org/wiki/%D7%AA%D7%9C_%D7%90%D7%91%D7%99%D7%91_%D7%91%D7%9E%D7%9C%D7%97%D7%9E%D7%AA_%D7%94%D7%A2%D7%A6%D7%9E%D7%90%D7%95%D7%AA\n",
      "DEBUG adding to data set URL: https://he.wikipedia.org/wiki/%D7%AA%D7%9C_%D7%90%D7%91%D7%99%D7%91-%D7%99%D7%A4%D7%95\n",
      "DEBUG adding to data set URL: https://he.wikipedia.org/wiki/%D7%90%D7%A8%D7%92%D7%95%D7%9F_%D7%A6%D7%91%D7%90%D7%99_%D7%9C%D7%90%D7%95%D7%9E%D7%99\n",
      "DEBUG adding to data set URL: https://he.wikipedia.org/wiki/%D7%94%D7%94%D7%92%D7%A0%D7%94\n",
      "DEBUG adding to data set URL: https://he.wikipedia.org/wiki/%D7%94%D7%94%D7%A2%D7%A4%D7%9C%D7%94\n",
      "DEBUG adding to data set URL: https://he.wikipedia.org/wiki/%D7%94%D7%99%D7%99%D7%A9%D7%95%D7%91_%D7%94%D7%99%D7%A9%D7%9F\n",
      "DEBUG adding to data set URL: https://he.wikipedia.org/wiki/%D7%94%D7%A9%D7%95%D7%9E%D7%A8\n",
      "DEBUG adding to data set URL: https://he.wikipedia.org/wiki/%D7%96%D7%90%D7%91_%D7%96%27%D7%91%D7%95%D7%98%D7%99%D7%A0%D7%A1%D7%A7%D7%99\n",
      "DEBUG adding to data set URL: https://he.wikipedia.org/wiki/%D7%97%D7%99%D7%99%D7%9D_%D7%90%D7%A8%D7%9C%D7%95%D7%96%D7%95%D7%A8%D7%95%D7%91_(%D7%90%D7%95%D7%A0%D7%99%D7%99%D7%AA_%D7%9E%D7%A2%D7%A4%D7%99%D7%9C%D7%99%D7%9D)\n",
      "DEBUG adding to data set URL: https://he.wikipedia.org/wiki/%D7%9E%D7%9C%D7%95%D7%9F_%D7%94%D7%9E%D7%9C%D7%9A_%D7%93%D7%95%D7%93\n"
     ]
    },
    {
     "name": "stdout",
     "output_type": "stream",
     "text": [
      "DEBUG adding to data set URL: https://he.wikipedia.org/wiki/%D7%9E%D7%97%D7%9C%D7%A7%D7%AA_%D7%94%D7%9C%22%D7%94\n",
      "DEBUG adding to data set URL: https://he.wikipedia.org/wiki/%D7%AA%D7%97%D7%99%D7%99%D7%AA_%D7%94%D7%9C%D7%A9%D7%95%D7%9F_%D7%94%D7%A2%D7%91%D7%A8%D7%99%D7%AA\n",
      "DEBUG adding to data set URL: https://he.wikipedia.org/wiki/%D7%94%D7%A7%D7%A8%D7%91_%D7%A2%D7%9C_%D7%99%D7%A8%D7%95%D7%A9%D7%9C%D7%99%D7%9D_%D7%91%D7%9E%D7%9C%D7%97%D7%9E%D7%AA_%D7%A9%D7%A9%D7%AA_%D7%94%D7%99%D7%9E%D7%99%D7%9D\n",
      "DEBUG adding to data set URL: https://he.wikipedia.org/wiki/%D7%97%D7%95%D7%9E%D7%95%D7%AA_%D7%99%D7%A8%D7%95%D7%A9%D7%9C%D7%99%D7%9D\n",
      "DEBUG adding to data set URL: https://he.wikipedia.org/wiki/%D7%9E%D7%A0%D7%94%D7%A8%D7%95%D7%AA_%D7%94%D7%9B%D7%95%D7%AA%D7%9C\n",
      "DEBUG adding to data set URL: https://he.wikipedia.org/wiki/%D7%90%D7%A1%D7%A4%D7%A7%D7%AA_%D7%94%D7%9E%D7%99%D7%9D_%D7%9C%D7%99%D7%A8%D7%95%D7%A9%D7%9C%D7%99%D7%9D\n",
      "DEBUG adding to data set URL: https://he.wikipedia.org/wiki/%D7%9B%D7%A0%D7%A1%D7%99%D7%99%D7%AA_%D7%94%D7%A7%D7%91%D7%A8\n",
      "DEBUG adding to data set URL: https://he.wikipedia.org/wiki/%D7%99%D7%A8%D7%95%D7%A9%D7%9C%D7%99%D7%9D_%D7%91%D7%AA%D7%A7%D7%95%D7%A4%D7%94_%D7%94%D7%9E%D7%9E%D7%9C%D7%95%D7%9B%D7%99%D7%AA\n",
      "DEBUG adding to data set URL: https://he.wikipedia.org/wiki/%D7%99%D7%A8%D7%95%D7%A9%D7%9C%D7%99%D7%9D_%D7%91%D7%AA%D7%A7%D7%95%D7%A4%D7%94_%D7%94%D7%A6%D7%9C%D7%91%D7%A0%D7%99%D7%AA\n",
      "DEBUG adding to data set URL: https://he.wikipedia.org/wiki/%D7%99%D7%A8%D7%95%D7%A9%D7%9C%D7%99%D7%9D_%D7%91%D7%AA%D7%A7%D7%95%D7%A4%D7%94_%D7%94%D7%91%D7%99%D7%96%D7%A0%D7%98%D7%99%D7%AA\n",
      "DEBUG adding to data set URL: https://he.wikipedia.org/wiki/%D7%99%D7%A9%D7%A8%D7%90%D7%9C_%D7%91%D7%9E%D7%9C%D7%97%D7%9E%D7%AA_%D7%99%D7%95%D7%9D_%D7%94%D7%9B%D7%99%D7%A4%D7%95%D7%A8%D7%99%D7%9D\n",
      "DEBUG adding to data set URL: https://he.wikipedia.org/wiki/%D7%A9%D7%9E%D7%95%D7%90%D7%9C_%D7%99%D7%95%D7%A1%D7%A3_%D7%A2%D7%92%D7%A0%D7%95%D7%9F\n",
      "DEBUG adding to data set URL: https://he.wikipedia.org/wiki/%D7%A2%D7%A6%D7%99%D7%9D_%D7%A2%D7%AA%D7%99%D7%A7%D7%99%D7%9D_%D7%91%D7%90%D7%A8%D7%A5_%D7%99%D7%A9%D7%A8%D7%90%D7%9C\n",
      "DEBUG adding to data set URL: https://he.wikipedia.org/wiki/%D7%9E%D7%A6%D7%93%D7%94\n",
      "DEBUG adding to data set URL: https://he.wikipedia.org/wiki/%D7%9E%D7%A0%D7%97%D7%9D_%D7%91%D7%92%D7%99%D7%9F\n",
      "DEBUG adding to data set URL: https://he.wikipedia.org/wiki/%D7%99%D7%A6%D7%97%D7%A7_%D7%A9%D7%9E%D7%99%D7%A8\n",
      "DEBUG adding to data set URL: https://he.wikipedia.org/wiki/%D7%A9%D7%9E%D7%A2%D7%95%D7%9F_%D7%A4%D7%A8%D7%A1\n",
      "DEBUG adding to data set URL: https://he.wikipedia.org/wiki/%D7%99%D7%92%D7%90%D7%9C_%D7%90%D7%9C%D7%95%D7%9F\n",
      "DEBUG adding to data set URL: https://he.wikipedia.org/wiki/%D7%99%D7%97%D7%A1%D7%99_%D7%99%D7%A9%D7%A8%D7%90%D7%9C-%D7%A1%D7%A8%D7%99_%D7%9C%D7%A0%D7%A7%D7%94\n",
      "DEBUG adding to data set URL: https://he.wikipedia.org/wiki/%D7%94%D7%97%D7%A7%D7%99%D7%A7%D7%94_%D7%91%D7%99%D7%A9%D7%A8%D7%90%D7%9C\n",
      "DEBUG adding to data set URL: https://he.wikipedia.org/wiki/%D7%94%D7%9E%D7%A9%D7%A4%D7%98_%D7%91%D7%99%D7%A9%D7%A8%D7%90%D7%9C\n",
      "DEBUG adding to data set URL: https://he.wikipedia.org/wiki/%D7%9E%D7%A2%D7%A8%D7%9B%D7%95%D7%AA_%D7%94%D7%9E%D7%A1%D7%AA%D7%95%D7%A8_%D7%A9%D7%9C_%D7%91%D7%A8_%D7%9B%D7%95%D7%9B%D7%91%D7%90\n",
      "DEBUG adding to data set URL: https://he.wikipedia.org/wiki/%D7%A7%D7%A8%D7%91_%D7%A1%D7%98%D7%9C%D7%99%D7%A0%D7%92%D7%A8%D7%93\n",
      "DEBUG adding to data set URL: https://he.wikipedia.org/wiki/%D7%94%D7%A4%D7%9C%D7%99%D7%A9%D7%94_%D7%9C%D7%A0%D7%95%D7%A8%D7%9E%D7%A0%D7%93%D7%99\n",
      "DEBUG adding to data set URL: https://he.wikipedia.org/wiki/%D7%94%D7%9E%D7%A2%D7%A8%D7%9B%D7%94_%D7%91%D7%90%D7%95%D7%A7%D7%99%D7%99%D7%A0%D7%95%D7%A1_%D7%94%D7%90%D7%98%D7%9C%D7%A0%D7%98%D7%99_(1939%E2%80%931945)\n",
      "DEBUG adding to data set URL: https://he.wikipedia.org/wiki/%D7%90%D7%95%D7%A9%D7%95%D7%95%D7%99%D7%A5\n",
      "DEBUG adding to data set URL: https://he.wikipedia.org/wiki/%D7%90%D7%A0%D7%94_%D7%A4%D7%A8%D7%A0%D7%A7\n",
      "DEBUG adding to data set URL: https://he.wikipedia.org/wiki/%D7%94%D7%97%D7%95%D7%A7_%D7%9C%D7%94%D7%92%D7%A0%D7%AA_%D7%94%D7%90%D7%95%D7%9E%D7%94\n",
      "DEBUG adding to data set URL: https://he.wikipedia.org/wiki/%D7%90%D7%9C%D7%9B%D7%A1%D7%A0%D7%93%D7%A8_%D7%94%D7%92%D7%93%D7%95%D7%9C\n",
      "DEBUG adding to data set URL: https://he.wikipedia.org/wiki/%D7%99%D7%95%D7%95%D7%9F_%D7%94%D7%A7%D7%9C%D7%90%D7%A1%D7%99%D7%AA\n",
      "DEBUG adding to data set URL: https://he.wikipedia.org/wiki/%D7%9B%D7%99%D7%91%D7%95%D7%A9_%D7%94%D7%90%D7%99%D7%9E%D7%A4%D7%A8%D7%99%D7%94_%D7%94%D7%A4%D7%A8%D7%A1%D7%99%D7%AA_%D7%A2%D7%9C_%D7%99%D7%93%D7%99_%D7%90%D7%9C%D7%9B%D7%A1%D7%A0%D7%93%D7%A8_%D7%94%D7%92%D7%93%D7%95%D7%9C\n",
      "DEBUG adding to data set URL: https://he.wikipedia.org/wiki/%D7%A9%D7%A0%D7%90%D7%AA_%D7%99%D7%A9%D7%A8%D7%90%D7%9C_%D7%91%D7%A2%D7%95%D7%9C%D7%9D_%D7%94%D7%99%D7%95%D7%95%D7%A0%D7%99-%D7%A8%D7%95%D7%9E%D7%99\n",
      "DEBUG adding to data set URL: https://he.wikipedia.org/wiki/%D7%9B%D7%99%D7%91%D7%95%D7%A9%D7%99_%D7%90%D7%9C%D7%9B%D7%A1%D7%A0%D7%93%D7%A8_%D7%94%D7%92%D7%93%D7%95%D7%9C_%D7%91%D7%90%D7%A1%D7%99%D7%94_%D7%94%D7%AA%D7%99%D7%9B%D7%95%D7%A0%D7%94\n",
      "DEBUG adding to data set URL: https://he.wikipedia.org/wiki/%D7%99%D7%95%D7%95%D7%9F_%D7%94%D7%90%D7%A8%D7%9B%D7%90%D7%99%D7%AA\n",
      "DEBUG adding to data set URL: https://he.wikipedia.org/wiki/%D7%94%D7%90%D7%9D_%D7%92%D7%95%D7%92%D7%9C_%D7%A2%D7%95%D7%A9%D7%94_%D7%90%D7%95%D7%AA%D7%A0%D7%95_%D7%98%D7%99%D7%A4%D7%A9%D7%99%D7%9D%3F\n",
      "DEBUG adding to data set URL: https://he.wikipedia.org/wiki/%D7%9C%D7%A7%D7%95%D7%AA_%D7%9C%D7%9E%D7%99%D7%93%D7%94\n",
      "DEBUG adding to data set URL: https://he.wikipedia.org/wiki/%D7%A4%D7%A1%D7%99%D7%9B%D7%95%D7%A4%D7%AA%D7%99%D7%94\n",
      "DEBUG adding to data set URL: https://he.wikipedia.org/wiki/%D7%94%D7%A4%D7%A8%D7%A2%D7%AA_%D7%A7%D7%A9%D7%91_%D7%91%D7%9E%D7%91%D7%95%D7%92%D7%A8%D7%99%D7%9D\n",
      "DEBUG adding to data set URL: https://he.wikipedia.org/wiki/%D7%9E%D7%99%D7%A9%D7%9C_%D7%A4%D7%95%D7%A7%D7%95\n",
      "DEBUG adding to data set URL: https://he.wikipedia.org/wiki/%D7%9E%D7%A9%D7%91%D7%A8_%D7%A7%D7%A8%D7%A0%D7%95%D7%AA_%D7%94%D7%A4%D7%A0%D7%A1%D7%99%D7%94_%D7%94%D7%92%D7%A8%D7%A2%D7%95%D7%A0%D7%99%D7%95%D7%AA\n",
      "DEBUG adding to data set URL: https://he.wikipedia.org/wiki/%D7%97%D7%95%D7%A7_%D7%94%D7%94%D7%A1%D7%93%D7%A8%D7%99%D7%9D\n",
      "DEBUG adding to data set URL: https://he.wikipedia.org/wiki/%D7%94%D7%94%D7%A1%D7%AA%D7%93%D7%A8%D7%95%D7%AA_%D7%94%D7%9B%D7%9C%D7%9C%D7%99%D7%AA_%D7%A9%D7%9C_%D7%94%D7%A2%D7%95%D7%91%D7%93%D7%99%D7%9D_%D7%91%D7%90%D7%A8%D7%A5_%D7%99%D7%A9%D7%A8%D7%90%D7%9C\n",
      "DEBUG adding to data set URL: https://he.wikipedia.org/wiki/%D7%90%D7%93%D7%A8%D7%99%D7%9B%D7%9C%D7%95%D7%AA_%D7%92%D7%95%D7%AA%D7%99%D7%AA\n",
      "DEBUG adding to data set URL: https://he.wikipedia.org/wiki/%D7%9B%D7%A0%D7%A1%D7%99%D7%99%D7%AA_%D7%94%D7%91%D7%A9%D7%95%D7%A8%D7%94\n",
      "DEBUG adding to data set URL: https://he.wikipedia.org/wiki/%D7%94%D7%9E%D7%97%D7%9C%D7%95%D7%A7%D7%AA_%D7%A2%D7%9C_%D7%94%D7%98%D7%A7%D7%A1%D7%99%D7%9D_%D7%94%D7%A1%D7%99%D7%A0%D7%99%D7%99%D7%9D\n",
      "DEBUG adding to data set URL: https://he.wikipedia.org/wiki/%D7%94%D7%99%D7%A1%D7%98%D7%95%D7%A8%D7%99%D7%94_%D7%A9%D7%9C_%D7%94%D7%9E%D7%99%D7%A1%D7%99%D7%95%D7%9F_%D7%94%D7%A0%D7%95%D7%A6%D7%A8%D7%99\n",
      "DEBUG adding to data set URL: https://he.wikipedia.org/wiki/%D7%AA%D7%90%D7%95%D7%A8%D7%99%D7%99%D7%AA_%D7%A9%D7%A0%D7%99_%D7%94%D7%9E%D7%A7%D7%95%D7%A8%D7%95%D7%AA\n",
      "DEBUG adding to data set URL: https://he.wikipedia.org/wiki/%D7%A6%D7%9C%D7%99%D7%91%D7%AA_%D7%99%D7%A9%D7%95\n",
      "DEBUG adding to data set URL: https://he.wikipedia.org/wiki/%D7%9E%D7%94%D7%93%D7%99\n",
      "DEBUG adding to data set URL: https://he.wikipedia.org/wiki/%D7%A4%D7%95%D7%A8%D7%98%D7%9C:%D7%92%27%D7%90%D7%96/%D7%A2%D7%A8%D7%9B%D7%99%D7%9D_%D7%9E%D7%95%D7%9E%D7%9C%D7%A6%D7%99%D7%9D\n",
      "DEBUG adding to data set URL: https://he.wikipedia.org/wiki/%D7%A4%D7%95%D7%A8%D7%98%D7%9C:%D7%9B%D7%93%D7%95%D7%A8%D7%A1%D7%9C/%D7%A2%D7%A8%D7%9B%D7%99%D7%9D_%D7%9E%D7%95%D7%9E%D7%9C%D7%A6%D7%99%D7%9D\n",
      "DEBUG adding to data set URL: https://he.wikipedia.org/wiki/%D7%A4%D7%9C%D7%94\n",
      "DEBUG adding to data set URL: https://he.wikipedia.org/wiki/%D7%92%D7%91%D7%99%D7%A2_%D7%94%D7%A2%D7%95%D7%9C%D7%9D_%D7%91%D7%9B%D7%93%D7%95%D7%A8%D7%92%D7%9C\n"
     ]
    },
    {
     "name": "stdout",
     "output_type": "stream",
     "text": [
      "DEBUG adding to data set URL: https://he.wikipedia.org/wiki/%D7%91%D7%A8%D7%A6%D7%9C%D7%95%D7%A0%D7%94_(%D7%9B%D7%93%D7%95%D7%A8%D7%92%D7%9C)\n",
      "size of data: 4036\n",
      "-----------------------------------------------------\n",
      "['השימוש', 'הראשון', 'המוכר', 'במונח', 'קפיטליזם', 'מופיע', 'אצל', 'תאקרי', 'בשנת', '0', 'במשמעות', 'בעלות', 'על', 'הון', 'השימוש', 'המודרני', 'הרחב', 'הראשון', 'במונח', 'בא', 'בספר', 'הקפיטל', 'של', 'קרל', 'מרקס', 'ופרידריך', 'אנגלס', 'המתייחס', 'למערכת', 'הייצור', 'הקפיטליסטית', 'ול', 'קפיטליסט', 'במובן', 'של', 'בעלים', 'של', 'אמצעי', 'הייצור', 'שימושם', 'המקורי', 'של', 'מרקס', 'ואנגלס', 'במונח', 'היה', 'ככינוי', 'גנאי', 'מאקס', 'ובר', 'השתמש', 'בו', 'בחיבורו', 'הידוע', 'האתיקה', 'הפרוטסטנטית', 'ורוח', 'הקפיטליזם', 'אך', 'רק', 'לאחר', 'פרסום', 'ספרו', 'של', 'הכלכלן', 'ורנר', 'זומברט', 'קפיטליזם', 'מודרני', 'משנת', '0', 'המונח', 'הפך', 'לתיאור', 'תפיסה', 'המנוגדת', 'לסוציאליזם', 'כיום', 'אף', 'שאדם', 'סמית', 'לא', 'השתמש', 'מעולם', 'במונח', 'קפיטליזם', 'ותיאר', 'את', 'המערכת', 'הכלכלית', 'המועדפת', 'עליו', 'כ', 'מערכת', 'החירות', 'הטבעית', 'יש', 'הרואים', 'בו', 'אבי', 'הקפיטליזם']\n",
      "-----------------------------------------------------\n",
      "['none', 'none', 'none', 'none', 'none', 'none', 'none', 'none', 'none', ',', 'none', 'none', 'none', '.', 'none', 'none', 'none', 'none', 'none', 'none', 'none', 'none', 'none', 'none', 'none', 'none', ',', 'none', 'none', 'none', 'none', 'none', 'none', 'none', 'none', 'none', 'none', 'none', '.', 'none', 'none', 'none', 'none', 'none', 'none', 'none', 'none', '.', 'none', 'none', 'none', 'none', 'none', 'none', 'none', 'none', 'none', 'none', 'none', 'none', 'none', 'none', 'none', 'none', 'none', 'none', 'none', 'none', 'none', 'none', 'none', 'none', 'none', 'none', 'none', 'none', '.', ',', 'none', 'none', 'none', 'none', 'none', 'none', 'none', ',', 'none', 'none', 'none', 'none', 'none', 'none', 'none', 'none', 'none', ',', 'none', 'none', 'none', 'none', '.']\n"
     ]
    }
   ],
   "source": [
    "def generate_dataset_part_a(url_list,outname):\n",
    "    gen.generate(url_list,outname)\n",
    "    out = gen.getStringFromDataFile(outname)\n",
    "    out = out.split(\"<DATADEL>\")  \n",
    "    data = []\n",
    "    for x in out:\n",
    "        data.append(x.split(\"<XYDEL>\"))\n",
    "    dataset=[]\n",
    "    for d in data:\n",
    "        temp = []\n",
    "        temp.append(d[0].split(\" \"))\n",
    "        temp.append(d[1].split(\" \"))\n",
    "        dataset.append(temp)\n",
    "    return dataset\n",
    "\n",
    "data = generate_dataset_part_a(gen.readyUrlList,\"train_data\")\n",
    "x_train = [x[0] for x in data]\n",
    "y_train = [x[1] for x in data]\n",
    "print(\"size of data: \" + str(len(x_train)))\n",
    "print(\"-----------------------------------------------------\")\n",
    "print(x_train[0])\n",
    "print(\"-----------------------------------------------------\")\n",
    "print(y_train[0])"
   ]
  },
  {
   "cell_type": "code",
   "execution_count": 7,
   "metadata": {},
   "outputs": [
    {
     "name": "stdout",
     "output_type": "stream",
     "text": [
      "['השימוש', 'הראשון', 'ה', '##מו', '##כר', 'ב', '##מו', '##נח', 'ק', '##פי', '##טל', '##יז', '##ם', 'מופיע', 'אצל', 'ת', '##אק', '##רי', 'בשנת', '0', 'ב', '##מש', '##מעות', 'בעלות', 'על', 'ה', '##ון', 'השימוש', 'ה', '##מוד', '##רני', 'הר', '##חב', 'הראשון', 'ב', '##מו', '##נח', 'ב', '##א', 'בספר', 'ה', '##ק', '##פי', '##טל', 'של', 'ק', '##רל', 'מ', '##רק', '##ס', 'ו', '##פר', '##יד', '##ריך', 'אנג', '##לס', 'ה', '##מת', '##יי', '##חס', 'ל', '##מערכת', 'ה', '##יי', '##צור', 'ה', '##ק', '##פי', '##טל', '##יס', '##טית', 'ו', '##ל', 'ק', '##פי', '##טל', '##יס', '##ט', 'ב', '##מו', '##בן', 'של', 'בעלי', '##ם', 'של', 'א', '##מ', '##צע', '##י', 'ה', '##יי', '##צור', 'שימוש', '##ם', 'המקורי', 'של', 'מ', '##רק', '##ס', 'ו', '##א', '##נג', '##לס', 'ב', '##מו', '##נח', 'היה', 'כ', '##כי', '##נוי', 'ג', '##נאי', 'מ', '##אק', '##ס', 'וב', '##ר', 'ה', '##שתמש', 'בו', 'ב', '##חי', '##בור', '##ו', 'ה', '##ידוע', 'ה', '##את', '##יקה', 'ה', '##פר', '##וט', '##סט', '##נטית', 'ו', '##רו', '##ח', 'ה', '##ק', '##פי', '##טל', '##יז', '##ם', 'אך', 'רק', 'לאחר', 'פרס', '##ום', 'ספרו', 'של', 'הכל', '##כל', '##ן', 'ו', '##ר', '##נר', 'זו', '##מבר', '##ט', 'ק', '##פי', '##טל', '##יז', '##ם', 'מ', '##וד', '##רני', 'משנת', '0', 'ה', '##מו', '##נח', 'הפך', 'ל', '##תי', '##אור', 'ת', '##פי', '##סה', 'ה', '##מנו', '##ג', '##דת', 'ל', '##סו', '##צי', '##אלי', '##זם', 'כיום', 'אף', 'ש', '##אד', '##ם', 'ס', '##מית', 'לא', 'ה', '##שתמש', 'מ', '##עולם', 'ב', '##מו', '##נח', 'ק', '##פי', '##טל', '##יז', '##ם', 'ו', '##תי', '##אר', 'את', 'ה', '##מערכת', 'הכל', '##כלית', 'ה', '##מו', '##עד', '##פת', 'עליו', 'כ', 'מערכת', 'ה', '##חי', '##רות', 'ה', '##טבע', '##ית', 'יש', 'הר', '##ואים', 'בו', 'א', '##בי', 'ה', '##ק', '##פי', '##טל', '##יז', '##ם']\n",
      "['none', 'none', 'none', 'none', 'none', 'none', 'none', 'none', 'none', 'none', 'none', 'none', 'none', 'none', 'none', 'none', 'none', 'none', 'none', ',', 'none', 'none', 'none', 'none', 'none', '.', '.', 'none', 'none', 'none', 'none', 'none', 'none', 'none', 'none', 'none', 'none', 'none', 'none', 'none', 'none', 'none', 'none', 'none', 'none', 'none', 'none', 'none', 'none', 'none', 'none', 'none', 'none', 'none', ',', ',', 'none', 'none', 'none', 'none', 'none', 'none', 'none', 'none', 'none', 'none', 'none', 'none', 'none', 'none', 'none', 'none', 'none', 'none', 'none', 'none', 'none', 'none', 'none', 'none', 'none', 'none', 'none', 'none', 'none', 'none', 'none', 'none', 'none', '.', '.', '.', 'none', 'none', 'none', 'none', 'none', 'none', 'none', 'none', 'none', 'none', 'none', 'none', 'none', 'none', 'none', 'none', 'none', 'none', '.', '.', 'none', 'none', 'none', 'none', 'none', 'none', 'none', 'none', 'none', 'none', 'none', 'none', 'none', 'none', 'none', 'none', 'none', 'none', 'none', 'none', 'none', 'none', 'none', 'none', 'none', 'none', 'none', 'none', 'none', 'none', 'none', 'none', 'none', 'none', 'none', 'none', 'none', 'none', 'none', 'none', 'none', 'none', 'none', 'none', 'none', 'none', 'none', 'none', 'none', 'none', 'none', 'none', 'none', 'none', 'none', 'none', 'none', 'none', 'none', 'none', 'none', 'none', 'none', 'none', 'none', 'none', 'none', 'none', 'none', 'none', 'none', '.', '.', '.', '.', '.', ',', 'none', 'none', 'none', 'none', 'none', 'none', 'none', 'none', 'none', 'none', 'none', 'none', 'none', 'none', ',', ',', ',', ',', ',', 'none', 'none', 'none', 'none', 'none', 'none', 'none', 'none', 'none', 'none', 'none', 'none', 'none', 'none', 'none', 'none', 'none', 'none', ',', ',', ',', 'none', 'none', 'none', 'none', 'none', 'none', '.', '.', '.', '.', '.', '.']\n"
     ]
    }
   ],
   "source": [
    "tokenizer = BertTokenizer.from_pretrained('bert-base-multilingual-uncased')\n",
    "\n",
    "def tokenize(sentences, orig_labels):\n",
    "    tokenized_texts = []\n",
    "    labels = []\n",
    "    for sent, sent_labels in zip(sentences, orig_labels):\n",
    "        bert_tokens = []\n",
    "        bert_labels = []\n",
    "        for orig_token, orig_label in zip(sent, sent_labels):\n",
    "            b_tokens = tokenizer.tokenize(orig_token)\n",
    "            bert_tokens.extend(b_tokens)\n",
    "            for b_token in b_tokens:\n",
    "                bert_labels.append(orig_label)\n",
    "        tokenized_texts.append(bert_tokens)\n",
    "        labels.append(bert_labels)\n",
    "\n",
    "        assert len(bert_tokens) == len(bert_labels)\n",
    "\n",
    "    return tokenized_texts, labels\n",
    "\n",
    "\n",
    "train_tokenized_texts, train_labels = tokenize(x_train, y_train)\n",
    "print(train_tokenized_texts[0])\n",
    "print(train_labels[0])"
   ]
  },
  {
   "cell_type": "code",
   "execution_count": null,
   "metadata": {},
   "outputs": [],
   "source": [
    "tags_vals = ['none', ',','.']\n",
    "tag2idx = {t: i for i, t in enumerate(tags_vals)}\n",
    "idx2tag = {i: t for i, t in enumerate(tags_vals)}"
   ]
  }
 ],
 "metadata": {
  "kernelspec": {
   "display_name": "Python 3",
   "language": "python",
   "name": "python3"
  },
  "language_info": {
   "codemirror_mode": {
    "name": "ipython",
    "version": 3
   },
   "file_extension": ".py",
   "mimetype": "text/x-python",
   "name": "python",
   "nbconvert_exporter": "python",
   "pygments_lexer": "ipython3",
   "version": "3.7.0"
  }
 },
 "nbformat": 4,
 "nbformat_minor": 2
}
